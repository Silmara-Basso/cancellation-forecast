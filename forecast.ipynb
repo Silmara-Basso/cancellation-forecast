{
 "cells": [
  {
   "cell_type": "markdown",
   "metadata": {},
   "source": [
    "<!-- Projeto Desenvolvido na Data Silmara Basso - silmarabasso@yahoo.com.br -->\n",
    "# <font color='blue'>Previsão de Cancelamento de Reserva</font>\n",
    "# <font color='blue'>Pipelines de CI/CD Para Operações de Machine Learning e IA</font>\n",
    "## <font color='blue'>Laboratório ML</font>\n",
    "### <font color='blue'> Processo Manual de Machine Learning Para Prever o Comportamento do Consumidor</font>"
   ]
  },
  {
   "cell_type": "markdown",
   "metadata": {},
   "source": [
    "## Instalação, Carregamento e Gerenciamento de Pacotes"
   ]
  },
  {
   "cell_type": "code",
   "execution_count": 1,
   "metadata": {},
   "outputs": [],
   "source": [
    "# Para atualizar um pacote, execute o comando abaixo no terminal ou prompt de comando:\n",
    "# pip install -U nome_pacote\n",
    "\n",
    "# Para instalar a versão exata de um pacote, execute o comando abaixo no terminal ou prompt de comando:\n",
    "# pip install nome_pacote==versão_desejada\n",
    "\n",
    "# Depois de instalar ou atualizar o pacote, reinicie o jupyter notebook.\n",
    "\n",
    "# Instala o pacote watermark. \n",
    "# Esse pacote é usado para gravar as versões de outros pacotes usados neste jupyter notebook.\n",
    "!pip install -q -U watermark"
   ]
  },
  {
   "cell_type": "code",
   "execution_count": 2,
   "metadata": {},
   "outputs": [
    {
     "name": "stdout",
     "output_type": "stream",
     "text": [
      "env: TF_CPP_MIN_LOG_LEVEL=3\n"
     ]
    }
   ],
   "source": [
    "%env TF_CPP_MIN_LOG_LEVEL=3"
   ]
  },
  {
   "cell_type": "code",
   "execution_count": 3,
   "metadata": {},
   "outputs": [],
   "source": [
    "!pip install -q tensorflow==2.15"
   ]
  },
  {
   "cell_type": "code",
   "execution_count": 4,
   "metadata": {},
   "outputs": [],
   "source": [
    "# Imports\n",
    "\n",
    "# Imports para manipulação e visualização de dados\n",
    "import numpy as np\n",
    "import pandas as pd\n",
    "import matplotlib as m\n",
    "import matplotlib.pyplot as plt\n",
    "import seaborn as sns\n",
    "\n",
    "# Imports para pré-processamento e avaliação\n",
    "import sklearn\n",
    "from sklearn.model_selection import train_test_split\n",
    "from sklearn.preprocessing import MinMaxScaler\n",
    "from sklearn.metrics import accuracy_score\n",
    "\n",
    "# Imports para Deep Learning\n",
    "import tensorflow as tf\n",
    "import keras\n",
    "from keras.models import Sequential\n",
    "from keras.layers import Dense, Input, Dropout\n",
    "from keras.losses import categorical_crossentropy\n",
    "from keras.utils import to_categorical\n",
    "from keras.callbacks import EarlyStopping, ReduceLROnPlateau\n",
    "from keras.optimizers import Nadam"
   ]
  },
  {
   "cell_type": "code",
   "execution_count": 5,
   "metadata": {},
   "outputs": [
    {
     "name": "stdout",
     "output_type": "stream",
     "text": [
      "Author: Previsão de Cancelamento\n",
      "\n"
     ]
    }
   ],
   "source": [
    "# Versões dos pacotes usados neste jupyter notebook\n",
    "%reload_ext watermark\n",
    "%watermark -a \"Previsão de Cancelamento\" "
   ]
  },
  {
   "cell_type": "markdown",
   "metadata": {},
   "source": [
    "## Dados Para Treinamento e Avaliação do Modelo"
   ]
  },
  {
   "cell_type": "code",
   "execution_count": 6,
   "metadata": {},
   "outputs": [],
   "source": [
    "# Carrega o dataset\n",
    "dataset = pd.read_csv(\"dataset.csv\")"
   ]
  },
  {
   "cell_type": "code",
   "execution_count": 7,
   "metadata": {
    "scrolled": true
   },
   "outputs": [
    {
     "data": {
      "text/plain": [
       "(119390, 32)"
      ]
     },
     "execution_count": 7,
     "metadata": {},
     "output_type": "execute_result"
    }
   ],
   "source": [
    "# Shape\n",
    "dataset.shape"
   ]
  },
  {
   "cell_type": "code",
   "execution_count": 8,
   "metadata": {},
   "outputs": [
    {
     "data": {
      "text/html": [
       "<div>\n",
       "<style scoped>\n",
       "    .dataframe tbody tr th:only-of-type {\n",
       "        vertical-align: middle;\n",
       "    }\n",
       "\n",
       "    .dataframe tbody tr th {\n",
       "        vertical-align: top;\n",
       "    }\n",
       "\n",
       "    .dataframe thead th {\n",
       "        text-align: right;\n",
       "    }\n",
       "</style>\n",
       "<table border=\"1\" class=\"dataframe\">\n",
       "  <thead>\n",
       "    <tr style=\"text-align: right;\">\n",
       "      <th></th>\n",
       "      <th>hotel</th>\n",
       "      <th>is_canceled</th>\n",
       "      <th>lead_time</th>\n",
       "      <th>arrival_date_year</th>\n",
       "      <th>arrival_date_month</th>\n",
       "      <th>arrival_date_week_number</th>\n",
       "      <th>arrival_date_day_of_month</th>\n",
       "      <th>stays_in_weekend_nights</th>\n",
       "      <th>stays_in_week_nights</th>\n",
       "      <th>adults</th>\n",
       "      <th>...</th>\n",
       "      <th>deposit_type</th>\n",
       "      <th>agent</th>\n",
       "      <th>company</th>\n",
       "      <th>days_in_waiting_list</th>\n",
       "      <th>customer_type</th>\n",
       "      <th>adr</th>\n",
       "      <th>required_car_parking_spaces</th>\n",
       "      <th>total_of_special_requests</th>\n",
       "      <th>reservation_status</th>\n",
       "      <th>reservation_status_date</th>\n",
       "    </tr>\n",
       "  </thead>\n",
       "  <tbody>\n",
       "    <tr>\n",
       "      <th>0</th>\n",
       "      <td>Resort Hotel</td>\n",
       "      <td>0</td>\n",
       "      <td>342</td>\n",
       "      <td>2015</td>\n",
       "      <td>July</td>\n",
       "      <td>27</td>\n",
       "      <td>1</td>\n",
       "      <td>0</td>\n",
       "      <td>0</td>\n",
       "      <td>2</td>\n",
       "      <td>...</td>\n",
       "      <td>No Deposit</td>\n",
       "      <td>NaN</td>\n",
       "      <td>NaN</td>\n",
       "      <td>0</td>\n",
       "      <td>Transient</td>\n",
       "      <td>0.0</td>\n",
       "      <td>0</td>\n",
       "      <td>0</td>\n",
       "      <td>Check-Out</td>\n",
       "      <td>2015-07-01</td>\n",
       "    </tr>\n",
       "    <tr>\n",
       "      <th>1</th>\n",
       "      <td>Resort Hotel</td>\n",
       "      <td>0</td>\n",
       "      <td>737</td>\n",
       "      <td>2015</td>\n",
       "      <td>July</td>\n",
       "      <td>27</td>\n",
       "      <td>1</td>\n",
       "      <td>0</td>\n",
       "      <td>0</td>\n",
       "      <td>2</td>\n",
       "      <td>...</td>\n",
       "      <td>No Deposit</td>\n",
       "      <td>NaN</td>\n",
       "      <td>NaN</td>\n",
       "      <td>0</td>\n",
       "      <td>Transient</td>\n",
       "      <td>0.0</td>\n",
       "      <td>0</td>\n",
       "      <td>0</td>\n",
       "      <td>Check-Out</td>\n",
       "      <td>2015-07-01</td>\n",
       "    </tr>\n",
       "    <tr>\n",
       "      <th>2</th>\n",
       "      <td>Resort Hotel</td>\n",
       "      <td>0</td>\n",
       "      <td>7</td>\n",
       "      <td>2015</td>\n",
       "      <td>July</td>\n",
       "      <td>27</td>\n",
       "      <td>1</td>\n",
       "      <td>0</td>\n",
       "      <td>1</td>\n",
       "      <td>1</td>\n",
       "      <td>...</td>\n",
       "      <td>No Deposit</td>\n",
       "      <td>NaN</td>\n",
       "      <td>NaN</td>\n",
       "      <td>0</td>\n",
       "      <td>Transient</td>\n",
       "      <td>75.0</td>\n",
       "      <td>0</td>\n",
       "      <td>0</td>\n",
       "      <td>Check-Out</td>\n",
       "      <td>2015-07-02</td>\n",
       "    </tr>\n",
       "    <tr>\n",
       "      <th>3</th>\n",
       "      <td>Resort Hotel</td>\n",
       "      <td>0</td>\n",
       "      <td>13</td>\n",
       "      <td>2015</td>\n",
       "      <td>July</td>\n",
       "      <td>27</td>\n",
       "      <td>1</td>\n",
       "      <td>0</td>\n",
       "      <td>1</td>\n",
       "      <td>1</td>\n",
       "      <td>...</td>\n",
       "      <td>No Deposit</td>\n",
       "      <td>304.0</td>\n",
       "      <td>NaN</td>\n",
       "      <td>0</td>\n",
       "      <td>Transient</td>\n",
       "      <td>75.0</td>\n",
       "      <td>0</td>\n",
       "      <td>0</td>\n",
       "      <td>Check-Out</td>\n",
       "      <td>2015-07-02</td>\n",
       "    </tr>\n",
       "    <tr>\n",
       "      <th>4</th>\n",
       "      <td>Resort Hotel</td>\n",
       "      <td>0</td>\n",
       "      <td>14</td>\n",
       "      <td>2015</td>\n",
       "      <td>July</td>\n",
       "      <td>27</td>\n",
       "      <td>1</td>\n",
       "      <td>0</td>\n",
       "      <td>2</td>\n",
       "      <td>2</td>\n",
       "      <td>...</td>\n",
       "      <td>No Deposit</td>\n",
       "      <td>240.0</td>\n",
       "      <td>NaN</td>\n",
       "      <td>0</td>\n",
       "      <td>Transient</td>\n",
       "      <td>98.0</td>\n",
       "      <td>0</td>\n",
       "      <td>1</td>\n",
       "      <td>Check-Out</td>\n",
       "      <td>2015-07-03</td>\n",
       "    </tr>\n",
       "  </tbody>\n",
       "</table>\n",
       "<p>5 rows × 32 columns</p>\n",
       "</div>"
      ],
      "text/plain": [
       "          hotel  is_canceled  lead_time  arrival_date_year arrival_date_month  \\\n",
       "0  Resort Hotel            0        342               2015               July   \n",
       "1  Resort Hotel            0        737               2015               July   \n",
       "2  Resort Hotel            0          7               2015               July   \n",
       "3  Resort Hotel            0         13               2015               July   \n",
       "4  Resort Hotel            0         14               2015               July   \n",
       "\n",
       "   arrival_date_week_number  arrival_date_day_of_month  \\\n",
       "0                        27                          1   \n",
       "1                        27                          1   \n",
       "2                        27                          1   \n",
       "3                        27                          1   \n",
       "4                        27                          1   \n",
       "\n",
       "   stays_in_weekend_nights  stays_in_week_nights  adults  ...  deposit_type  \\\n",
       "0                        0                     0       2  ...    No Deposit   \n",
       "1                        0                     0       2  ...    No Deposit   \n",
       "2                        0                     1       1  ...    No Deposit   \n",
       "3                        0                     1       1  ...    No Deposit   \n",
       "4                        0                     2       2  ...    No Deposit   \n",
       "\n",
       "   agent company days_in_waiting_list customer_type   adr  \\\n",
       "0    NaN     NaN                    0     Transient   0.0   \n",
       "1    NaN     NaN                    0     Transient   0.0   \n",
       "2    NaN     NaN                    0     Transient  75.0   \n",
       "3  304.0     NaN                    0     Transient  75.0   \n",
       "4  240.0     NaN                    0     Transient  98.0   \n",
       "\n",
       "   required_car_parking_spaces  total_of_special_requests  reservation_status  \\\n",
       "0                            0                          0           Check-Out   \n",
       "1                            0                          0           Check-Out   \n",
       "2                            0                          0           Check-Out   \n",
       "3                            0                          0           Check-Out   \n",
       "4                            0                          1           Check-Out   \n",
       "\n",
       "  reservation_status_date  \n",
       "0              2015-07-01  \n",
       "1              2015-07-01  \n",
       "2              2015-07-02  \n",
       "3              2015-07-02  \n",
       "4              2015-07-03  \n",
       "\n",
       "[5 rows x 32 columns]"
      ]
     },
     "execution_count": 8,
     "metadata": {},
     "output_type": "execute_result"
    }
   ],
   "source": [
    "# Visualiza os dados\n",
    "dataset.head(5)"
   ]
  },
  {
   "cell_type": "markdown",
   "metadata": {},
   "source": [
    "**Vamos usar Inteligência Artificial, especificamente Deep Learning, para prever o cancelamento de reservas em hotéis.**"
   ]
  },
  {
   "cell_type": "markdown",
   "metadata": {},
   "source": [
    "## Quando é Necessário Fazer Análise Exploratória?"
   ]
  },
  {
   "cell_type": "code",
   "execution_count": 9,
   "metadata": {},
   "outputs": [
    {
     "name": "stdout",
     "output_type": "stream",
     "text": [
      "32\n"
     ]
    }
   ],
   "source": [
    "# Número de colunas\n",
    "print(len(dataset.columns))"
   ]
  },
  {
   "cell_type": "code",
   "execution_count": 10,
   "metadata": {},
   "outputs": [
    {
     "data": {
      "text/plain": [
       "hotel                              object\n",
       "is_canceled                         int64\n",
       "lead_time                           int64\n",
       "arrival_date_year                   int64\n",
       "arrival_date_month                 object\n",
       "arrival_date_week_number            int64\n",
       "arrival_date_day_of_month           int64\n",
       "stays_in_weekend_nights             int64\n",
       "stays_in_week_nights                int64\n",
       "adults                              int64\n",
       "children                          float64\n",
       "babies                              int64\n",
       "meal                               object\n",
       "country                            object\n",
       "market_segment                     object\n",
       "distribution_channel               object\n",
       "is_repeated_guest                   int64\n",
       "previous_cancellations              int64\n",
       "previous_bookings_not_canceled      int64\n",
       "reserved_room_type                 object\n",
       "assigned_room_type                 object\n",
       "booking_changes                     int64\n",
       "deposit_type                       object\n",
       "agent                             float64\n",
       "company                           float64\n",
       "days_in_waiting_list                int64\n",
       "customer_type                      object\n",
       "adr                               float64\n",
       "required_car_parking_spaces         int64\n",
       "total_of_special_requests           int64\n",
       "reservation_status                 object\n",
       "reservation_status_date            object\n",
       "dtype: object"
      ]
     },
     "execution_count": 10,
     "metadata": {},
     "output_type": "execute_result"
    }
   ],
   "source": [
    "# Tipos de dados\n",
    "dataset.dtypes"
   ]
  },
  {
   "cell_type": "code",
   "execution_count": 11,
   "metadata": {},
   "outputs": [
    {
     "name": "stdout",
     "output_type": "stream",
     "text": [
      "hotel\n",
      "arrival_date_month\n",
      "meal\n",
      "country\n",
      "market_segment\n",
      "distribution_channel\n",
      "reserved_room_type\n",
      "assigned_room_type\n",
      "deposit_type\n",
      "customer_type\n",
      "reservation_status\n",
      "reservation_status_date\n"
     ]
    }
   ],
   "source": [
    "# Vamos checar quais colunas são do tipo string\n",
    "for column, series in dataset.items():\n",
    "    if str(type(series[0])) == \"<class 'str'>\":\n",
    "        print(column)"
   ]
  },
  {
   "cell_type": "markdown",
   "metadata": {},
   "source": [
    "Não podemos levar valores no formato de texto para o treinamento do modelo. Vamos tratar isso daqui a pouco. Primeiro vamos checar se temos valores ausentes."
   ]
  },
  {
   "cell_type": "code",
   "execution_count": 12,
   "metadata": {},
   "outputs": [
    {
     "data": {
      "text/plain": [
       "hotel                                  0\n",
       "is_canceled                            0\n",
       "lead_time                              0\n",
       "arrival_date_year                      0\n",
       "arrival_date_month                     0\n",
       "arrival_date_week_number               0\n",
       "arrival_date_day_of_month              0\n",
       "stays_in_weekend_nights                0\n",
       "stays_in_week_nights                   0\n",
       "adults                                 0\n",
       "children                               4\n",
       "babies                                 0\n",
       "meal                                   0\n",
       "country                              488\n",
       "market_segment                         0\n",
       "distribution_channel                   0\n",
       "is_repeated_guest                      0\n",
       "previous_cancellations                 0\n",
       "previous_bookings_not_canceled         0\n",
       "reserved_room_type                     0\n",
       "assigned_room_type                     0\n",
       "booking_changes                        0\n",
       "deposit_type                           0\n",
       "agent                              16340\n",
       "company                           112593\n",
       "days_in_waiting_list                   0\n",
       "customer_type                          0\n",
       "adr                                    0\n",
       "required_car_parking_spaces            0\n",
       "total_of_special_requests              0\n",
       "reservation_status                     0\n",
       "reservation_status_date                0\n",
       "dtype: int64"
      ]
     },
     "execution_count": 12,
     "metadata": {},
     "output_type": "execute_result"
    }
   ],
   "source": [
    "# Total de valores ausentes por coluna\n",
    "dataset.isnull().sum()"
   ]
  },
  {
   "cell_type": "markdown",
   "metadata": {},
   "source": [
    "Sim, temos em algumas colunas. Então vamos ao processo de limpeza e transformação dos dados."
   ]
  },
  {
   "cell_type": "markdown",
   "metadata": {},
   "source": [
    "## Pipeline de Limpeza e Transformação"
   ]
  },
  {
   "cell_type": "code",
   "execution_count": 13,
   "metadata": {},
   "outputs": [],
   "source": [
    "# Remove a coluna \"company\"\n",
    "dataset = dataset.drop(['company'], axis = 1)"
   ]
  },
  {
   "cell_type": "code",
   "execution_count": 14,
   "metadata": {},
   "outputs": [],
   "source": [
    "# Remove a coluna \"country\"\n",
    "dataset = dataset.drop(['country'], axis = 1)"
   ]
  },
  {
   "cell_type": "code",
   "execution_count": 15,
   "metadata": {},
   "outputs": [],
   "source": [
    "# Removemos valores ausentes que ainda estverem no dataset\n",
    "dataset = dataset.dropna()"
   ]
  },
  {
   "cell_type": "code",
   "execution_count": 16,
   "metadata": {},
   "outputs": [
    {
     "data": {
      "text/plain": [
       "(103048, 30)"
      ]
     },
     "execution_count": 16,
     "metadata": {},
     "output_type": "execute_result"
    }
   ],
   "source": [
    "# Shape\n",
    "dataset.shape"
   ]
  },
  {
   "cell_type": "code",
   "execution_count": 17,
   "metadata": {},
   "outputs": [
    {
     "data": {
      "text/plain": [
       "hotel                             0\n",
       "is_canceled                       0\n",
       "lead_time                         0\n",
       "arrival_date_year                 0\n",
       "arrival_date_month                0\n",
       "arrival_date_week_number          0\n",
       "arrival_date_day_of_month         0\n",
       "stays_in_weekend_nights           0\n",
       "stays_in_week_nights              0\n",
       "adults                            0\n",
       "children                          0\n",
       "babies                            0\n",
       "meal                              0\n",
       "market_segment                    0\n",
       "distribution_channel              0\n",
       "is_repeated_guest                 0\n",
       "previous_cancellations            0\n",
       "previous_bookings_not_canceled    0\n",
       "reserved_room_type                0\n",
       "assigned_room_type                0\n",
       "booking_changes                   0\n",
       "deposit_type                      0\n",
       "agent                             0\n",
       "days_in_waiting_list              0\n",
       "customer_type                     0\n",
       "adr                               0\n",
       "required_car_parking_spaces       0\n",
       "total_of_special_requests         0\n",
       "reservation_status                0\n",
       "reservation_status_date           0\n",
       "dtype: int64"
      ]
     },
     "execution_count": 17,
     "metadata": {},
     "output_type": "execute_result"
    }
   ],
   "source": [
    "# Total de valores ausentes por coluna\n",
    "dataset.isnull().sum()"
   ]
  },
  {
   "cell_type": "markdown",
   "metadata": {},
   "source": [
    "**Encoding da variável com o mês de chegada no hotel.**"
   ]
  },
  {
   "cell_type": "code",
   "execution_count": null,
   "metadata": {},
   "outputs": [
    {
     "data": {
      "text/plain": [
       "array(['July', 'August', 'September', 'October', 'November', 'December',\n",
       "       'January', 'February', 'March', 'April', 'May', 'June'],\n",
       "      dtype=object)"
      ]
     },
     "execution_count": 18,
     "metadata": {},
     "output_type": "execute_result"
    }
   ],
   "source": [
    "# Valores únicos para a coluna de mês de chegada\n",
    "dataset.arrival_date_month.unique()"
   ]
  },
  {
   "cell_type": "code",
   "execution_count": 19,
   "metadata": {},
   "outputs": [],
   "source": [
    "# Dicionário de meses\n",
    "mes_dict = {\"January\": 1,\n",
    "            \"February\": 2,\n",
    "            \"March\": 3,\n",
    "            \"April\": 4,\n",
    "            \"May\": 5, \n",
    "            \"June\": 6,\n",
    "            \"July\": 7,\n",
    "            \"August\": 8,\n",
    "            \"September\": 9,\n",
    "            \"October\": 10,\n",
    "            \"November\": 11,\n",
    "            \"December\": 12}"
   ]
  },
  {
   "cell_type": "code",
   "execution_count": 20,
   "metadata": {},
   "outputs": [],
   "source": [
    "# Vamos converter os meses para o valor numérico correspondente, conforme colocamos no dicionário\n",
    "dataset[\"arrival_date_month_numerical\"] = dataset.arrival_date_month.apply(lambda x: mes_dict[x])"
   ]
  },
  {
   "cell_type": "code",
   "execution_count": 21,
   "metadata": {},
   "outputs": [
    {
     "data": {
      "text/plain": [
       "arrival_date_month_numerical\n",
       "8     12680\n",
       "7     11604\n",
       "5     10089\n",
       "6      9806\n",
       "4      9758\n",
       "10     9461\n",
       "9      9437\n",
       "3      8149\n",
       "2      6461\n",
       "12     5631\n",
       "11     5409\n",
       "1      4563\n",
       "Name: count, dtype: int64"
      ]
     },
     "execution_count": 21,
     "metadata": {},
     "output_type": "execute_result"
    }
   ],
   "source": [
    "# Total de registros para cada mês\n",
    "dataset.arrival_date_month_numerical.value_counts()"
   ]
  },
  {
   "cell_type": "markdown",
   "metadata": {},
   "source": [
    "Mês de Agosto teve o maior número de reservas e mês de Janeiro o menor. Isso se explica porque no hemisfério Norte o auge do Verão e as férias são em Agosto."
   ]
  },
  {
   "cell_type": "code",
   "execution_count": 22,
   "metadata": {},
   "outputs": [],
   "source": [
    "# Não precisamos mais da coluna \"arrival_date_month\"\n",
    "dataset = dataset.drop(\"arrival_date_month\", axis = 1)"
   ]
  },
  {
   "cell_type": "markdown",
   "metadata": {},
   "source": [
    "**Encoding das variáveis com tipo de quarto reservado e tipo de quarto ocupado.**"
   ]
  },
  {
   "cell_type": "code",
   "execution_count": 23,
   "metadata": {},
   "outputs": [
    {
     "data": {
      "text/plain": [
       "array(['A', 'C', 'D', 'E', 'G', 'F', 'H', 'B'], dtype=object)"
      ]
     },
     "execution_count": 23,
     "metadata": {},
     "output_type": "execute_result"
    }
   ],
   "source": [
    "# Valores únicos de quartos reservados\n",
    "dataset.reserved_room_type.unique()"
   ]
  },
  {
   "cell_type": "code",
   "execution_count": 24,
   "metadata": {},
   "outputs": [
    {
     "data": {
      "text/plain": [
       "array(['A', 'C', 'D', 'E', 'G', 'F', 'I', 'B', 'H', 'K'], dtype=object)"
      ]
     },
     "execution_count": 24,
     "metadata": {},
     "output_type": "execute_result"
    }
   ],
   "source": [
    "# Valores únicos de quartos já ocupados\n",
    "dataset.assigned_room_type.unique()"
   ]
  },
  {
   "cell_type": "markdown",
   "metadata": {},
   "source": [
    "Vamos adotar a mesma estratégia usada com os meses."
   ]
  },
  {
   "cell_type": "code",
   "execution_count": 25,
   "metadata": {},
   "outputs": [],
   "source": [
    "# Dicionário para o encoding do tipo de quarto\n",
    "tipo_quarto_dict = {\"A\": 1, \"B\": 2, \"C\": 3, \"D\": 4, \"E\": 5, \"F\": 6, \"G\": 7, \"H\": 8, \"I\": 9, \"K\": 11, \"L\": 12, \"P\": 15}"
   ]
  },
  {
   "cell_type": "code",
   "execution_count": 26,
   "metadata": {},
   "outputs": [],
   "source": [
    "# Atribuímos o dicionário para fazer o encoding nas colunas com texto e criar as colunas numéricas\n",
    "dataset[\"reserved_room_type_numerical\"] = dataset.reserved_room_type.apply(lambda x: tipo_quarto_dict[x])\n",
    "dataset[\"assigned_room_type_numerical\"] = dataset.assigned_room_type.apply(lambda x: tipo_quarto_dict[x])"
   ]
  },
  {
   "cell_type": "code",
   "execution_count": 27,
   "metadata": {},
   "outputs": [
    {
     "data": {
      "text/html": [
       "<div>\n",
       "<style scoped>\n",
       "    .dataframe tbody tr th:only-of-type {\n",
       "        vertical-align: middle;\n",
       "    }\n",
       "\n",
       "    .dataframe tbody tr th {\n",
       "        vertical-align: top;\n",
       "    }\n",
       "\n",
       "    .dataframe thead th {\n",
       "        text-align: right;\n",
       "    }\n",
       "</style>\n",
       "<table border=\"1\" class=\"dataframe\">\n",
       "  <thead>\n",
       "    <tr style=\"text-align: right;\">\n",
       "      <th></th>\n",
       "      <th>hotel</th>\n",
       "      <th>is_canceled</th>\n",
       "      <th>lead_time</th>\n",
       "      <th>arrival_date_year</th>\n",
       "      <th>arrival_date_week_number</th>\n",
       "      <th>arrival_date_day_of_month</th>\n",
       "      <th>stays_in_weekend_nights</th>\n",
       "      <th>stays_in_week_nights</th>\n",
       "      <th>adults</th>\n",
       "      <th>children</th>\n",
       "      <th>...</th>\n",
       "      <th>days_in_waiting_list</th>\n",
       "      <th>customer_type</th>\n",
       "      <th>adr</th>\n",
       "      <th>required_car_parking_spaces</th>\n",
       "      <th>total_of_special_requests</th>\n",
       "      <th>reservation_status</th>\n",
       "      <th>reservation_status_date</th>\n",
       "      <th>arrival_date_month_numerical</th>\n",
       "      <th>reserved_room_type_numerical</th>\n",
       "      <th>assigned_room_type_numerical</th>\n",
       "    </tr>\n",
       "  </thead>\n",
       "  <tbody>\n",
       "    <tr>\n",
       "      <th>3</th>\n",
       "      <td>Resort Hotel</td>\n",
       "      <td>0</td>\n",
       "      <td>13</td>\n",
       "      <td>2015</td>\n",
       "      <td>27</td>\n",
       "      <td>1</td>\n",
       "      <td>0</td>\n",
       "      <td>1</td>\n",
       "      <td>1</td>\n",
       "      <td>0.0</td>\n",
       "      <td>...</td>\n",
       "      <td>0</td>\n",
       "      <td>Transient</td>\n",
       "      <td>75.0</td>\n",
       "      <td>0</td>\n",
       "      <td>0</td>\n",
       "      <td>Check-Out</td>\n",
       "      <td>2015-07-02</td>\n",
       "      <td>7</td>\n",
       "      <td>1</td>\n",
       "      <td>1</td>\n",
       "    </tr>\n",
       "    <tr>\n",
       "      <th>4</th>\n",
       "      <td>Resort Hotel</td>\n",
       "      <td>0</td>\n",
       "      <td>14</td>\n",
       "      <td>2015</td>\n",
       "      <td>27</td>\n",
       "      <td>1</td>\n",
       "      <td>0</td>\n",
       "      <td>2</td>\n",
       "      <td>2</td>\n",
       "      <td>0.0</td>\n",
       "      <td>...</td>\n",
       "      <td>0</td>\n",
       "      <td>Transient</td>\n",
       "      <td>98.0</td>\n",
       "      <td>0</td>\n",
       "      <td>1</td>\n",
       "      <td>Check-Out</td>\n",
       "      <td>2015-07-03</td>\n",
       "      <td>7</td>\n",
       "      <td>1</td>\n",
       "      <td>1</td>\n",
       "    </tr>\n",
       "    <tr>\n",
       "      <th>5</th>\n",
       "      <td>Resort Hotel</td>\n",
       "      <td>0</td>\n",
       "      <td>14</td>\n",
       "      <td>2015</td>\n",
       "      <td>27</td>\n",
       "      <td>1</td>\n",
       "      <td>0</td>\n",
       "      <td>2</td>\n",
       "      <td>2</td>\n",
       "      <td>0.0</td>\n",
       "      <td>...</td>\n",
       "      <td>0</td>\n",
       "      <td>Transient</td>\n",
       "      <td>98.0</td>\n",
       "      <td>0</td>\n",
       "      <td>1</td>\n",
       "      <td>Check-Out</td>\n",
       "      <td>2015-07-03</td>\n",
       "      <td>7</td>\n",
       "      <td>1</td>\n",
       "      <td>1</td>\n",
       "    </tr>\n",
       "    <tr>\n",
       "      <th>7</th>\n",
       "      <td>Resort Hotel</td>\n",
       "      <td>0</td>\n",
       "      <td>9</td>\n",
       "      <td>2015</td>\n",
       "      <td>27</td>\n",
       "      <td>1</td>\n",
       "      <td>0</td>\n",
       "      <td>2</td>\n",
       "      <td>2</td>\n",
       "      <td>0.0</td>\n",
       "      <td>...</td>\n",
       "      <td>0</td>\n",
       "      <td>Transient</td>\n",
       "      <td>103.0</td>\n",
       "      <td>0</td>\n",
       "      <td>1</td>\n",
       "      <td>Check-Out</td>\n",
       "      <td>2015-07-03</td>\n",
       "      <td>7</td>\n",
       "      <td>3</td>\n",
       "      <td>3</td>\n",
       "    </tr>\n",
       "    <tr>\n",
       "      <th>8</th>\n",
       "      <td>Resort Hotel</td>\n",
       "      <td>1</td>\n",
       "      <td>85</td>\n",
       "      <td>2015</td>\n",
       "      <td>27</td>\n",
       "      <td>1</td>\n",
       "      <td>0</td>\n",
       "      <td>3</td>\n",
       "      <td>2</td>\n",
       "      <td>0.0</td>\n",
       "      <td>...</td>\n",
       "      <td>0</td>\n",
       "      <td>Transient</td>\n",
       "      <td>82.0</td>\n",
       "      <td>0</td>\n",
       "      <td>1</td>\n",
       "      <td>Canceled</td>\n",
       "      <td>2015-05-06</td>\n",
       "      <td>7</td>\n",
       "      <td>1</td>\n",
       "      <td>1</td>\n",
       "    </tr>\n",
       "  </tbody>\n",
       "</table>\n",
       "<p>5 rows × 32 columns</p>\n",
       "</div>"
      ],
      "text/plain": [
       "          hotel  is_canceled  lead_time  arrival_date_year  \\\n",
       "3  Resort Hotel            0         13               2015   \n",
       "4  Resort Hotel            0         14               2015   \n",
       "5  Resort Hotel            0         14               2015   \n",
       "7  Resort Hotel            0          9               2015   \n",
       "8  Resort Hotel            1         85               2015   \n",
       "\n",
       "   arrival_date_week_number  arrival_date_day_of_month  \\\n",
       "3                        27                          1   \n",
       "4                        27                          1   \n",
       "5                        27                          1   \n",
       "7                        27                          1   \n",
       "8                        27                          1   \n",
       "\n",
       "   stays_in_weekend_nights  stays_in_week_nights  adults  children  ...  \\\n",
       "3                        0                     1       1       0.0  ...   \n",
       "4                        0                     2       2       0.0  ...   \n",
       "5                        0                     2       2       0.0  ...   \n",
       "7                        0                     2       2       0.0  ...   \n",
       "8                        0                     3       2       0.0  ...   \n",
       "\n",
       "   days_in_waiting_list customer_type    adr required_car_parking_spaces  \\\n",
       "3                     0     Transient   75.0                           0   \n",
       "4                     0     Transient   98.0                           0   \n",
       "5                     0     Transient   98.0                           0   \n",
       "7                     0     Transient  103.0                           0   \n",
       "8                     0     Transient   82.0                           0   \n",
       "\n",
       "   total_of_special_requests  reservation_status  reservation_status_date  \\\n",
       "3                          0           Check-Out               2015-07-02   \n",
       "4                          1           Check-Out               2015-07-03   \n",
       "5                          1           Check-Out               2015-07-03   \n",
       "7                          1           Check-Out               2015-07-03   \n",
       "8                          1            Canceled               2015-05-06   \n",
       "\n",
       "  arrival_date_month_numerical reserved_room_type_numerical  \\\n",
       "3                            7                            1   \n",
       "4                            7                            1   \n",
       "5                            7                            1   \n",
       "7                            7                            3   \n",
       "8                            7                            1   \n",
       "\n",
       "   assigned_room_type_numerical  \n",
       "3                             1  \n",
       "4                             1  \n",
       "5                             1  \n",
       "7                             3  \n",
       "8                             1  \n",
       "\n",
       "[5 rows x 32 columns]"
      ]
     },
     "execution_count": 27,
     "metadata": {},
     "output_type": "execute_result"
    }
   ],
   "source": [
    "# Visualiza os dados\n",
    "dataset.head()"
   ]
  },
  {
   "cell_type": "markdown",
   "metadata": {},
   "source": [
    "Removemos as duas colunas com valores em texto."
   ]
  },
  {
   "cell_type": "code",
   "execution_count": 28,
   "metadata": {},
   "outputs": [],
   "source": [
    "# Não precisamos mais das colunas \"reserved_room_type\" e \"assigned_room_type\"\n",
    "dataset = dataset.drop([\"reserved_room_type\", \"assigned_room_type\"], axis = 1)"
   ]
  },
  {
   "cell_type": "markdown",
   "metadata": {},
   "source": [
    "**Encoding da variável com o tipo de depósito.**"
   ]
  },
  {
   "cell_type": "code",
   "execution_count": 29,
   "metadata": {},
   "outputs": [
    {
     "data": {
      "text/plain": [
       "array(['No Deposit', 'Refundable', 'Non Refund'], dtype=object)"
      ]
     },
     "execution_count": 29,
     "metadata": {},
     "output_type": "execute_result"
    }
   ],
   "source": [
    "# Valores únicos da variável \"deposit_type\"\n",
    "dataset.deposit_type.unique()"
   ]
  },
  {
   "cell_type": "code",
   "execution_count": 30,
   "metadata": {},
   "outputs": [],
   "source": [
    "# Dicionário\n",
    "tipo_deposito_dict = {\"No Deposit\": 0, \"Refundable\": 1, \"Non Refund\": -1}"
   ]
  },
  {
   "cell_type": "code",
   "execution_count": 31,
   "metadata": {},
   "outputs": [],
   "source": [
    "# Aplicamos o encoding\n",
    "dataset[\"deposit_type_numerical\"] = dataset.deposit_type.apply(lambda x: tipo_deposito_dict[x])"
   ]
  },
  {
   "cell_type": "code",
   "execution_count": 32,
   "metadata": {},
   "outputs": [],
   "source": [
    "# Drop da coluna \"deposit_type\"\n",
    "dataset = dataset.drop(\"deposit_type\", axis = 1)"
   ]
  },
  {
   "cell_type": "markdown",
   "metadata": {},
   "source": [
    "**Encoding da variável com o tipo de cliente.**"
   ]
  },
  {
   "cell_type": "code",
   "execution_count": 33,
   "metadata": {},
   "outputs": [
    {
     "data": {
      "text/plain": [
       "array(['Transient', 'Contract', 'Transient-Party', 'Group'], dtype=object)"
      ]
     },
     "execution_count": 33,
     "metadata": {},
     "output_type": "execute_result"
    }
   ],
   "source": [
    "# Valores únicos\n",
    "dataset.customer_type.unique()"
   ]
  },
  {
   "cell_type": "code",
   "execution_count": 34,
   "metadata": {},
   "outputs": [],
   "source": [
    "# Dicionário\n",
    "tipo_cliente_dict = {\"Transient\": 0, \"Contract\": 1, \"Transient-Party\": 2, \"Group\":3}"
   ]
  },
  {
   "cell_type": "code",
   "execution_count": 35,
   "metadata": {},
   "outputs": [],
   "source": [
    "# Aplicamos o encoding\n",
    "dataset[\"customer_type_numerical\"] = dataset.customer_type.apply(lambda x: tipo_cliente_dict[x])"
   ]
  },
  {
   "cell_type": "code",
   "execution_count": 36,
   "metadata": {},
   "outputs": [],
   "source": [
    "# Drop da coluna \"customer_type\"\n",
    "dataset = dataset.drop(\"customer_type\", axis = 1)"
   ]
  },
  {
   "cell_type": "markdown",
   "metadata": {},
   "source": [
    "**Encoding da variável com o tipo de hotel.**"
   ]
  },
  {
   "cell_type": "code",
   "execution_count": 37,
   "metadata": {},
   "outputs": [
    {
     "data": {
      "text/plain": [
       "array(['Resort Hotel', 'City Hotel'], dtype=object)"
      ]
     },
     "execution_count": 37,
     "metadata": {},
     "output_type": "execute_result"
    }
   ],
   "source": [
    "# Valores únicos\n",
    "dataset.hotel.unique()"
   ]
  },
  {
   "cell_type": "code",
   "execution_count": 38,
   "metadata": {},
   "outputs": [],
   "source": [
    "# Dicionário com o tipo de hotel\n",
    "tipo_hotel_dict = {\"Resort Hotel\": 0, \"City Hotel\": 1}"
   ]
  },
  {
   "cell_type": "code",
   "execution_count": 39,
   "metadata": {},
   "outputs": [],
   "source": [
    "# Aplica o encoding e cria nova coluna\n",
    "dataset[\"hotel_numerical\"] = dataset.hotel.apply(lambda x: tipo_hotel_dict[x])"
   ]
  },
  {
   "cell_type": "code",
   "execution_count": 40,
   "metadata": {},
   "outputs": [],
   "source": [
    "# Drop da coluna \"hotel\"\n",
    "dataset = dataset.drop(\"hotel\", axis = 1)"
   ]
  },
  {
   "cell_type": "markdown",
   "metadata": {},
   "source": [
    "**Encoding da variável com o tipo de refeição.**"
   ]
  },
  {
   "cell_type": "code",
   "execution_count": 41,
   "metadata": {},
   "outputs": [
    {
     "data": {
      "text/plain": [
       "array(['BB', 'FB', 'HB', 'SC', 'Undefined'], dtype=object)"
      ]
     },
     "execution_count": 41,
     "metadata": {},
     "output_type": "execute_result"
    }
   ],
   "source": [
    "# Valores únicos\n",
    "dataset.meal.unique()"
   ]
  },
  {
   "cell_type": "code",
   "execution_count": 42,
   "metadata": {},
   "outputs": [],
   "source": [
    "# Dicionário \n",
    "tipo_refeicao_dict = {\"BB\": 0, \"FB\": 1, \"HB\": 2, \"SC\": 3, \"Undefined\": -1}"
   ]
  },
  {
   "cell_type": "code",
   "execution_count": 43,
   "metadata": {},
   "outputs": [],
   "source": [
    "# Aplica o encoding e cria nova coluna\n",
    "dataset[\"meal_numerical\"] = dataset.meal.apply(lambda x: tipo_refeicao_dict[x])"
   ]
  },
  {
   "cell_type": "code",
   "execution_count": 44,
   "metadata": {},
   "outputs": [],
   "source": [
    "# Drop da coluna \"meal\"\n",
    "dataset = dataset.drop(\"meal\", axis = 1)"
   ]
  },
  {
   "cell_type": "markdown",
   "metadata": {},
   "source": [
    "**Encoding da variável com o tipo de segmento de mercado.**"
   ]
  },
  {
   "cell_type": "code",
   "execution_count": 45,
   "metadata": {},
   "outputs": [
    {
     "data": {
      "text/plain": [
       "array(['Corporate', 'Online TA', 'Direct', 'Offline TA/TO', 'Groups',\n",
       "       'Complementary', 'Aviation'], dtype=object)"
      ]
     },
     "execution_count": 45,
     "metadata": {},
     "output_type": "execute_result"
    }
   ],
   "source": [
    "# Valores únicos\n",
    "dataset.market_segment.unique()"
   ]
  },
  {
   "cell_type": "code",
   "execution_count": 46,
   "metadata": {},
   "outputs": [
    {
     "data": {
      "text/plain": [
       "array(['Corporate', 'TA/TO', 'Direct', 'GDS'], dtype=object)"
      ]
     },
     "execution_count": 46,
     "metadata": {},
     "output_type": "execute_result"
    }
   ],
   "source": [
    "# Valores únicos\n",
    "dataset.distribution_channel.unique()"
   ]
  },
  {
   "cell_type": "code",
   "execution_count": 47,
   "metadata": {},
   "outputs": [],
   "source": [
    "# Dicionário\n",
    "segmento_mercado_dict = {\"Direct\": 0,\n",
    "                         \"Corporate\": 1,\n",
    "                         \"Online TA\": 2,\n",
    "                         \"Offline TA/TO\": 3,\n",
    "                         \"Complementary\": 4,\n",
    "                         \"Groups\": 5,\n",
    "                         \"Aviation\": 6,\n",
    "                         \"GDS\": 7,\n",
    "                         \"TA/TO\": 8,\n",
    "                         \"Undefined\": -1}"
   ]
  },
  {
   "cell_type": "code",
   "execution_count": 48,
   "metadata": {},
   "outputs": [],
   "source": [
    "# Aplica o encoding\n",
    "dataset[\"market_segment_numerical\"] = dataset.market_segment.apply(lambda x: segmento_mercado_dict[x])\n",
    "dataset[\"distribution_channel_numerical\"] = dataset.distribution_channel.apply(lambda x: segmento_mercado_dict[x])"
   ]
  },
  {
   "cell_type": "code",
   "execution_count": 49,
   "metadata": {},
   "outputs": [],
   "source": [
    "# Não precisamos mais das colunas \"market_segment\" e \"distribution_channel\"\n",
    "dataset = dataset.drop([\"market_segment\", \"distribution_channel\"], axis = 1)"
   ]
  },
  {
   "cell_type": "code",
   "execution_count": 50,
   "metadata": {},
   "outputs": [
    {
     "data": {
      "text/html": [
       "<div>\n",
       "<style scoped>\n",
       "    .dataframe tbody tr th:only-of-type {\n",
       "        vertical-align: middle;\n",
       "    }\n",
       "\n",
       "    .dataframe tbody tr th {\n",
       "        vertical-align: top;\n",
       "    }\n",
       "\n",
       "    .dataframe thead th {\n",
       "        text-align: right;\n",
       "    }\n",
       "</style>\n",
       "<table border=\"1\" class=\"dataframe\">\n",
       "  <thead>\n",
       "    <tr style=\"text-align: right;\">\n",
       "      <th></th>\n",
       "      <th>is_canceled</th>\n",
       "      <th>lead_time</th>\n",
       "      <th>arrival_date_year</th>\n",
       "      <th>arrival_date_week_number</th>\n",
       "      <th>arrival_date_day_of_month</th>\n",
       "      <th>stays_in_weekend_nights</th>\n",
       "      <th>stays_in_week_nights</th>\n",
       "      <th>adults</th>\n",
       "      <th>children</th>\n",
       "      <th>babies</th>\n",
       "      <th>...</th>\n",
       "      <th>reservation_status_date</th>\n",
       "      <th>arrival_date_month_numerical</th>\n",
       "      <th>reserved_room_type_numerical</th>\n",
       "      <th>assigned_room_type_numerical</th>\n",
       "      <th>deposit_type_numerical</th>\n",
       "      <th>customer_type_numerical</th>\n",
       "      <th>hotel_numerical</th>\n",
       "      <th>meal_numerical</th>\n",
       "      <th>market_segment_numerical</th>\n",
       "      <th>distribution_channel_numerical</th>\n",
       "    </tr>\n",
       "  </thead>\n",
       "  <tbody>\n",
       "    <tr>\n",
       "      <th>3</th>\n",
       "      <td>0</td>\n",
       "      <td>13</td>\n",
       "      <td>2015</td>\n",
       "      <td>27</td>\n",
       "      <td>1</td>\n",
       "      <td>0</td>\n",
       "      <td>1</td>\n",
       "      <td>1</td>\n",
       "      <td>0.0</td>\n",
       "      <td>0</td>\n",
       "      <td>...</td>\n",
       "      <td>2015-07-02</td>\n",
       "      <td>7</td>\n",
       "      <td>1</td>\n",
       "      <td>1</td>\n",
       "      <td>0</td>\n",
       "      <td>0</td>\n",
       "      <td>0</td>\n",
       "      <td>0</td>\n",
       "      <td>1</td>\n",
       "      <td>1</td>\n",
       "    </tr>\n",
       "    <tr>\n",
       "      <th>4</th>\n",
       "      <td>0</td>\n",
       "      <td>14</td>\n",
       "      <td>2015</td>\n",
       "      <td>27</td>\n",
       "      <td>1</td>\n",
       "      <td>0</td>\n",
       "      <td>2</td>\n",
       "      <td>2</td>\n",
       "      <td>0.0</td>\n",
       "      <td>0</td>\n",
       "      <td>...</td>\n",
       "      <td>2015-07-03</td>\n",
       "      <td>7</td>\n",
       "      <td>1</td>\n",
       "      <td>1</td>\n",
       "      <td>0</td>\n",
       "      <td>0</td>\n",
       "      <td>0</td>\n",
       "      <td>0</td>\n",
       "      <td>2</td>\n",
       "      <td>8</td>\n",
       "    </tr>\n",
       "    <tr>\n",
       "      <th>5</th>\n",
       "      <td>0</td>\n",
       "      <td>14</td>\n",
       "      <td>2015</td>\n",
       "      <td>27</td>\n",
       "      <td>1</td>\n",
       "      <td>0</td>\n",
       "      <td>2</td>\n",
       "      <td>2</td>\n",
       "      <td>0.0</td>\n",
       "      <td>0</td>\n",
       "      <td>...</td>\n",
       "      <td>2015-07-03</td>\n",
       "      <td>7</td>\n",
       "      <td>1</td>\n",
       "      <td>1</td>\n",
       "      <td>0</td>\n",
       "      <td>0</td>\n",
       "      <td>0</td>\n",
       "      <td>0</td>\n",
       "      <td>2</td>\n",
       "      <td>8</td>\n",
       "    </tr>\n",
       "    <tr>\n",
       "      <th>7</th>\n",
       "      <td>0</td>\n",
       "      <td>9</td>\n",
       "      <td>2015</td>\n",
       "      <td>27</td>\n",
       "      <td>1</td>\n",
       "      <td>0</td>\n",
       "      <td>2</td>\n",
       "      <td>2</td>\n",
       "      <td>0.0</td>\n",
       "      <td>0</td>\n",
       "      <td>...</td>\n",
       "      <td>2015-07-03</td>\n",
       "      <td>7</td>\n",
       "      <td>3</td>\n",
       "      <td>3</td>\n",
       "      <td>0</td>\n",
       "      <td>0</td>\n",
       "      <td>0</td>\n",
       "      <td>1</td>\n",
       "      <td>0</td>\n",
       "      <td>0</td>\n",
       "    </tr>\n",
       "    <tr>\n",
       "      <th>8</th>\n",
       "      <td>1</td>\n",
       "      <td>85</td>\n",
       "      <td>2015</td>\n",
       "      <td>27</td>\n",
       "      <td>1</td>\n",
       "      <td>0</td>\n",
       "      <td>3</td>\n",
       "      <td>2</td>\n",
       "      <td>0.0</td>\n",
       "      <td>0</td>\n",
       "      <td>...</td>\n",
       "      <td>2015-05-06</td>\n",
       "      <td>7</td>\n",
       "      <td>1</td>\n",
       "      <td>1</td>\n",
       "      <td>0</td>\n",
       "      <td>0</td>\n",
       "      <td>0</td>\n",
       "      <td>0</td>\n",
       "      <td>2</td>\n",
       "      <td>8</td>\n",
       "    </tr>\n",
       "  </tbody>\n",
       "</table>\n",
       "<p>5 rows × 30 columns</p>\n",
       "</div>"
      ],
      "text/plain": [
       "   is_canceled  lead_time  arrival_date_year  arrival_date_week_number  \\\n",
       "3            0         13               2015                        27   \n",
       "4            0         14               2015                        27   \n",
       "5            0         14               2015                        27   \n",
       "7            0          9               2015                        27   \n",
       "8            1         85               2015                        27   \n",
       "\n",
       "   arrival_date_day_of_month  stays_in_weekend_nights  stays_in_week_nights  \\\n",
       "3                          1                        0                     1   \n",
       "4                          1                        0                     2   \n",
       "5                          1                        0                     2   \n",
       "7                          1                        0                     2   \n",
       "8                          1                        0                     3   \n",
       "\n",
       "   adults  children  babies  ...  reservation_status_date  \\\n",
       "3       1       0.0       0  ...               2015-07-02   \n",
       "4       2       0.0       0  ...               2015-07-03   \n",
       "5       2       0.0       0  ...               2015-07-03   \n",
       "7       2       0.0       0  ...               2015-07-03   \n",
       "8       2       0.0       0  ...               2015-05-06   \n",
       "\n",
       "   arrival_date_month_numerical  reserved_room_type_numerical  \\\n",
       "3                             7                             1   \n",
       "4                             7                             1   \n",
       "5                             7                             1   \n",
       "7                             7                             3   \n",
       "8                             7                             1   \n",
       "\n",
       "   assigned_room_type_numerical  deposit_type_numerical  \\\n",
       "3                             1                       0   \n",
       "4                             1                       0   \n",
       "5                             1                       0   \n",
       "7                             3                       0   \n",
       "8                             1                       0   \n",
       "\n",
       "   customer_type_numerical  hotel_numerical  meal_numerical  \\\n",
       "3                        0                0               0   \n",
       "4                        0                0               0   \n",
       "5                        0                0               0   \n",
       "7                        0                0               1   \n",
       "8                        0                0               0   \n",
       "\n",
       "   market_segment_numerical distribution_channel_numerical  \n",
       "3                         1                              1  \n",
       "4                         2                              8  \n",
       "5                         2                              8  \n",
       "7                         0                              0  \n",
       "8                         2                              8  \n",
       "\n",
       "[5 rows x 30 columns]"
      ]
     },
     "execution_count": 50,
     "metadata": {},
     "output_type": "execute_result"
    }
   ],
   "source": [
    "# Visualiza os dados\n",
    "dataset.head(5)"
   ]
  },
  {
   "cell_type": "code",
   "execution_count": 51,
   "metadata": {},
   "outputs": [
    {
     "data": {
      "text/plain": [
       "is_canceled                         int64\n",
       "lead_time                           int64\n",
       "arrival_date_year                   int64\n",
       "arrival_date_week_number            int64\n",
       "arrival_date_day_of_month           int64\n",
       "stays_in_weekend_nights             int64\n",
       "stays_in_week_nights                int64\n",
       "adults                              int64\n",
       "children                          float64\n",
       "babies                              int64\n",
       "is_repeated_guest                   int64\n",
       "previous_cancellations              int64\n",
       "previous_bookings_not_canceled      int64\n",
       "booking_changes                     int64\n",
       "agent                             float64\n",
       "days_in_waiting_list                int64\n",
       "adr                               float64\n",
       "required_car_parking_spaces         int64\n",
       "total_of_special_requests           int64\n",
       "reservation_status                 object\n",
       "reservation_status_date            object\n",
       "arrival_date_month_numerical        int64\n",
       "reserved_room_type_numerical        int64\n",
       "assigned_room_type_numerical        int64\n",
       "deposit_type_numerical              int64\n",
       "customer_type_numerical             int64\n",
       "hotel_numerical                     int64\n",
       "meal_numerical                      int64\n",
       "market_segment_numerical            int64\n",
       "distribution_channel_numerical      int64\n",
       "dtype: object"
      ]
     },
     "execution_count": 51,
     "metadata": {},
     "output_type": "execute_result"
    }
   ],
   "source": [
    "# Tipos de dados\n",
    "dataset.dtypes"
   ]
  },
  {
   "cell_type": "markdown",
   "metadata": {},
   "source": [
    "Temos ainda 2 variáveis do tipo object, ou seja, string. Como as duas variáveis contém status de reserva e data, vamos apenas removê-las."
   ]
  },
  {
   "cell_type": "code",
   "execution_count": 52,
   "metadata": {},
   "outputs": [
    {
     "data": {
      "text/plain": [
       "array([0, 1])"
      ]
     },
     "execution_count": 52,
     "metadata": {},
     "output_type": "execute_result"
    }
   ],
   "source": [
    "# Valores únicos (esta será nossa variável alvo, o que desejamos prever)\n",
    "dataset.is_canceled.unique()"
   ]
  },
  {
   "cell_type": "code",
   "execution_count": 53,
   "metadata": {},
   "outputs": [
    {
     "data": {
      "text/plain": [
       "array(['Check-Out', 'Canceled', 'No-Show'], dtype=object)"
      ]
     },
     "execution_count": 53,
     "metadata": {},
     "output_type": "execute_result"
    }
   ],
   "source": [
    "# Valores únicos\n",
    "dataset.reservation_status.unique()"
   ]
  },
  {
   "cell_type": "code",
   "execution_count": 54,
   "metadata": {},
   "outputs": [],
   "source": [
    "# Drop\n",
    "dataset = dataset.drop(\"reservation_status\", axis = 1)"
   ]
  },
  {
   "cell_type": "code",
   "execution_count": 55,
   "metadata": {},
   "outputs": [
    {
     "data": {
      "text/plain": [
       "array(['2015-07-02', '2015-07-03', '2015-05-06', '2015-04-22',\n",
       "       '2015-06-23', '2015-07-05', '2015-07-06', '2015-07-07',\n",
       "       '2015-07-01', '2015-07-08', '2015-05-11', '2015-07-16',\n",
       "       '2015-05-19', '2015-06-19', '2015-05-23', '2015-05-18',\n",
       "       '2015-07-09', '2015-06-02', '2015-07-13', '2015-07-04',\n",
       "       '2015-06-29', '2015-06-16', '2015-06-18', '2015-06-12',\n",
       "       '2015-06-09', '2015-05-26', '2015-07-11', '2015-07-12',\n",
       "       '2015-07-17', '2015-04-15', '2015-05-13', '2015-07-10',\n",
       "       '2015-05-20', '2015-05-12', '2015-07-14', '2015-05-29',\n",
       "       '2015-06-17', '2015-05-01', '2015-03-30', '2015-07-15',\n",
       "       '2015-07-19', '2015-06-03', '2015-06-26', '2015-05-14',\n",
       "       '2015-07-20', '2015-05-07', '2015-05-28', '2015-04-13',\n",
       "       '2015-03-25', '2015-07-21', '2015-06-27', '2015-07-18',\n",
       "       '2015-07-23', '2015-06-08', '2015-06-22', '2015-06-24',\n",
       "       '2015-03-05', '2015-06-01', '2015-04-24', '2015-07-22',\n",
       "       '2015-05-27', '2015-04-06', '2015-04-11', '2015-07-25',\n",
       "       '2015-07-28', '2015-06-25', '2015-07-24', '2015-06-05',\n",
       "       '2015-06-30', '2015-06-13', '2015-06-11', '2015-04-29',\n",
       "       '2015-06-04', '2015-07-26', '2015-08-01', '2015-07-29',\n",
       "       '2015-08-02', '2015-06-15', '2015-07-27', '2015-04-23',\n",
       "       '2015-07-30', '2015-07-31', '2015-05-25', '2015-08-03',\n",
       "       '2015-04-17', '2015-08-04', '2015-08-06', '2015-05-15',\n",
       "       '2015-05-09', '2015-03-17', '2015-05-22', '2015-08-07',\n",
       "       '2015-04-04', '2015-08-05', '2015-08-08', '2015-08-10',\n",
       "       '2015-06-06', '2015-08-09', '2015-08-15', '2015-08-11',\n",
       "       '2015-03-28', '2015-08-14', '2015-08-12', '2015-08-16',\n",
       "       '2015-05-16', '2015-08-21', '2015-08-13', '2015-08-17',\n",
       "       '2015-04-20', '2015-08-18', '2015-08-23', '2015-08-22',\n",
       "       '2015-08-19', '2015-08-20', '2015-08-29', '2015-03-31',\n",
       "       '2015-05-30', '2015-08-25', '2015-04-14', '2015-08-24',\n",
       "       '2015-03-24', '2015-05-21', '2015-08-28', '2015-08-26',\n",
       "       '2015-08-27', '2015-08-30', '2015-08-31', '2015-09-06',\n",
       "       '2015-09-03', '2015-09-04', '2015-09-02', '2015-09-01',\n",
       "       '2015-09-05', '2015-09-07', '2015-09-10', '2015-09-11',\n",
       "       '2015-09-08', '2015-09-09', '2015-09-13', '2015-09-15',\n",
       "       '2015-04-10', '2014-11-18', '2015-09-12', '2015-09-17',\n",
       "       '2015-09-14', '2015-01-02', '2015-04-07', '2015-09-19',\n",
       "       '2015-09-16', '2015-09-20', '2015-10-23', '2015-01-22',\n",
       "       '2015-01-01', '2015-09-22', '2015-09-24', '2015-09-18',\n",
       "       '2015-09-21', '2015-09-30', '2015-09-25', '2015-09-27',\n",
       "       '2015-09-28', '2015-10-12', '2015-09-29', '2015-09-23',\n",
       "       '2015-10-01', '2015-09-26', '2015-04-18', '2015-10-02',\n",
       "       '2015-10-04', '2015-10-08', '2015-10-03', '2015-10-07',\n",
       "       '2015-10-09', '2015-10-11', '2015-10-05', '2015-10-06',\n",
       "       '2015-10-10', '2015-10-14', '2015-10-15', '2015-10-18',\n",
       "       '2015-10-13', '2015-10-20', '2015-10-19', '2015-10-16',\n",
       "       '2015-10-21', '2015-10-22', '2015-10-24', '2015-10-25',\n",
       "       '2015-10-28', '2015-10-27', '2015-10-26', '2015-10-30',\n",
       "       '2015-11-05', '2015-10-29', '2015-11-03', '2015-11-07',\n",
       "       '2015-10-31', '2015-11-04', '2015-11-01', '2015-11-02',\n",
       "       '2015-11-17', '2015-11-06', '2015-11-10', '2015-11-08',\n",
       "       '2015-11-09', '2015-11-15', '2015-11-16', '2015-11-11',\n",
       "       '2015-11-12', '2015-11-14', '2015-11-13', '2015-11-18',\n",
       "       '2015-11-22', '2015-11-19', '2015-11-21', '2015-11-20',\n",
       "       '2015-11-24', '2015-11-25', '2015-11-23', '2015-11-28',\n",
       "       '2015-11-26', '2015-11-27', '2015-11-29', '2015-12-04',\n",
       "       '2015-12-01', '2015-12-06', '2015-12-08', '2015-12-02',\n",
       "       '2015-12-03', '2015-12-31', '2015-12-05', '2015-12-10',\n",
       "       '2015-12-17', '2015-11-30', '2015-12-12', '2015-12-07',\n",
       "       '2016-01-05', '2015-12-11', '2015-12-13', '2015-12-15',\n",
       "       '2015-12-16', '2015-12-19', '2015-12-18', '2015-12-26',\n",
       "       '2015-12-27', '2015-12-22', '2015-12-23', '2015-12-24',\n",
       "       '2015-12-29', '2015-12-28', '2015-12-20', '2015-12-30',\n",
       "       '2016-01-02', '2016-01-01', '2015-12-25', '2016-01-03',\n",
       "       '2016-01-04', '2016-01-11', '2016-01-07', '2015-12-21',\n",
       "       '2016-01-09', '2016-01-10', '2016-01-08', '2016-01-06',\n",
       "       '2016-01-12', '2016-01-13', '2016-01-23', '2016-02-09',\n",
       "       '2016-01-16', '2016-01-15', '2016-01-17', '2016-01-19',\n",
       "       '2016-01-21', '2016-01-24', '2016-01-22', '2016-01-29',\n",
       "       '2016-01-27', '2016-03-08', '2016-01-26', '2016-01-20',\n",
       "       '2016-01-18', '2016-01-25', '2016-02-08', '2016-01-30',\n",
       "       '2016-02-07', '2016-01-28', '2016-02-05', '2016-02-03',\n",
       "       '2016-02-13', '2016-02-10', '2016-02-02', '2016-02-04',\n",
       "       '2016-02-12', '2016-02-11', '2016-02-16', '2016-02-14',\n",
       "       '2016-02-15', '2016-02-01', '2016-02-20', '2016-02-06',\n",
       "       '2016-01-14', '2016-02-17', '2016-02-21', '2016-02-24',\n",
       "       '2016-02-25', '2016-02-19', '2016-02-18', '2016-02-26',\n",
       "       '2016-02-23', '2016-03-05', '2016-02-27', '2016-03-03',\n",
       "       '2016-02-22', '2016-03-04', '2016-02-29', '2016-03-01',\n",
       "       '2016-03-30', '2016-03-07', '2016-03-14', '2016-03-21',\n",
       "       '2016-03-12', '2016-03-22', '2016-03-10', '2016-03-02',\n",
       "       '2016-03-11', '2016-03-20', '2016-03-15', '2016-03-19',\n",
       "       '2016-03-27', '2016-03-24', '2016-03-16', '2016-03-09',\n",
       "       '2016-03-26', '2016-03-31', '2016-03-18', '2016-03-28',\n",
       "       '2016-03-29', '2016-04-01', '2016-03-17', '2016-03-23',\n",
       "       '2016-04-02', '2016-03-13', '2016-04-04', '2016-04-05',\n",
       "       '2016-04-08', '2016-04-06', '2016-04-09', '2016-04-12',\n",
       "       '2016-04-16', '2016-04-17', '2016-04-27', '2016-04-18',\n",
       "       '2016-04-21', '2016-04-19', '2016-04-20', '2016-04-10',\n",
       "       '2016-04-13', '2016-04-11', '2016-04-07', '2016-04-15',\n",
       "       '2016-04-22', '2016-04-23', '2016-04-26', '2016-04-28',\n",
       "       '2016-04-24', '2016-04-30', '2016-04-14', '2016-05-01',\n",
       "       '2016-04-25', '2016-04-03', '2016-05-10', '2016-05-02',\n",
       "       '2016-04-29', '2016-05-07', '2016-05-08', '2016-05-12',\n",
       "       '2016-05-04', '2016-05-06', '2016-05-03', '2016-05-09',\n",
       "       '2016-05-13', '2016-05-14', '2016-05-18', '2016-05-19',\n",
       "       '2016-05-15', '2016-05-16', '2016-05-11', '2016-05-21',\n",
       "       '2016-05-22', '2016-05-20', '2016-05-05', '2016-05-24',\n",
       "       '2016-05-25', '2016-05-26', '2016-05-23', '2016-05-27',\n",
       "       '2016-05-17', '2016-05-29', '2016-05-28', '2016-05-31',\n",
       "       '2016-06-01', '2016-05-30', '2016-06-03', '2016-06-08',\n",
       "       '2016-06-02', '2016-03-25', '2016-06-05', '2016-06-06',\n",
       "       '2016-06-13', '2016-06-07', '2016-06-10', '2016-06-11',\n",
       "       '2016-06-16', '2016-06-14', '2016-06-17', '2016-06-12',\n",
       "       '2016-06-18', '2016-06-21', '2016-06-09', '2016-06-24',\n",
       "       '2016-06-20', '2016-06-25', '2016-06-22', '2016-06-26',\n",
       "       '2016-06-23', '2016-07-01', '2016-06-28', '2016-07-02',\n",
       "       '2016-06-19', '2016-06-27', '2016-07-04', '2016-06-30',\n",
       "       '2016-07-05', '2016-06-15', '2016-07-08', '2016-07-09',\n",
       "       '2016-07-07', '2016-07-12', '2016-06-29', '2016-07-15',\n",
       "       '2016-07-03', '2015-10-17', '2016-07-16', '2016-07-14',\n",
       "       '2016-07-10', '2016-07-18', '2016-07-13', '2016-07-20',\n",
       "       '2016-07-21', '2016-07-23', '2016-07-19', '2016-07-11',\n",
       "       '2016-07-28', '2016-07-06', '2016-07-17', '2016-07-25',\n",
       "       '2016-07-22', '2016-08-03', '2016-08-02', '2016-08-08',\n",
       "       '2016-08-10', '2016-08-01', '2016-03-06', '2016-07-26',\n",
       "       '2016-08-07', '2016-07-30', '2016-07-24', '2016-08-06',\n",
       "       '2016-08-12', '2016-07-27', '2016-08-13', '2016-08-18',\n",
       "       '2016-08-16', '2016-07-29', '2016-08-15', '2016-08-17',\n",
       "       '2016-08-11', '2016-07-31', '2016-08-05', '2016-08-19',\n",
       "       '2016-08-04', '2016-09-01', '2016-08-23', '2016-08-26',\n",
       "       '2016-08-20', '2016-08-21', '2016-09-04', '2016-08-22',\n",
       "       '2016-08-27', '2016-08-25', '2016-08-09', '2016-09-05',\n",
       "       '2016-08-24', '2016-09-10', '2016-08-29', '2016-09-09',\n",
       "       '2016-08-30', '2016-09-13', '2016-08-31', '2016-09-12',\n",
       "       '2016-09-15', '2016-08-14', '2016-09-02', '2016-09-14',\n",
       "       '2016-09-08', '2016-09-19', '2016-09-16', '2016-09-07',\n",
       "       '2016-09-21', '2016-09-06', '2016-09-22', '2016-09-17',\n",
       "       '2016-09-20', '2016-09-03', '2016-09-26', '2016-09-23',\n",
       "       '2016-09-18', '2016-09-29', '2016-10-02', '2016-10-01',\n",
       "       '2016-09-27', '2016-09-25', '2016-10-05', '2016-09-11',\n",
       "       '2016-09-30', '2016-10-09', '2016-10-03', '2016-10-06',\n",
       "       '2016-10-11', '2016-09-24', '2016-10-13', '2016-10-08',\n",
       "       '2016-08-28', '2016-10-16', '2016-10-18', '2016-10-17',\n",
       "       '2016-10-21', '2016-10-12', '2016-10-04', '2016-10-10',\n",
       "       '2016-10-23', '2016-09-28', '2016-10-25', '2016-10-26',\n",
       "       '2016-10-27', '2016-10-15', '2016-10-28', '2016-10-29',\n",
       "       '2016-10-19', '2016-10-07', '2016-10-30', '2016-11-01',\n",
       "       '2016-11-04', '2016-10-14', '2016-11-07', '2016-11-10',\n",
       "       '2016-10-20', '2016-11-14', '2016-11-02', '2016-10-31',\n",
       "       '2016-11-03', '2016-10-24', '2016-11-11', '2016-11-08',\n",
       "       '2016-11-05', '2016-11-25', '2016-11-09', '2016-11-20',\n",
       "       '2016-10-22', '2016-11-22', '2016-11-16', '2016-11-23',\n",
       "       '2016-11-06', '2016-11-15', '2016-11-13', '2016-11-12',\n",
       "       '2016-11-21', '2016-11-27', '2016-11-19', '2016-11-30',\n",
       "       '2016-11-17', '2016-11-18', '2016-12-02', '2016-12-04',\n",
       "       '2016-11-29', '2016-12-07', '2016-11-28', '2016-12-03',\n",
       "       '2016-12-06', '2016-11-24', '2016-12-08', '2016-12-05',\n",
       "       '2016-12-10', '2016-12-14', '2016-12-16', '2016-12-15',\n",
       "       '2016-12-17', '2016-12-19', '2016-12-21', '2016-12-20',\n",
       "       '2016-12-22', '2016-12-23', '2016-12-13', '2016-12-01',\n",
       "       '2016-12-12', '2016-12-30', '2016-12-24', '2017-01-02',\n",
       "       '2016-12-11', '2017-01-04', '2017-01-01', '2016-12-26',\n",
       "       '2017-01-06', '2016-12-28', '2016-12-18', '2017-01-10',\n",
       "       '2017-01-11', '2017-01-07', '2017-01-12', '2016-12-27',\n",
       "       '2017-01-05', '2017-01-17', '2017-01-20', '2016-12-09',\n",
       "       '2017-01-16', '2016-12-31', '2017-01-23', '2017-01-28',\n",
       "       '2017-01-19', '2017-01-25', '2017-01-24', '2017-01-29',\n",
       "       '2017-01-18', '2016-12-25', '2017-01-15', '2017-01-13',\n",
       "       '2017-01-03', '2017-01-21', '2017-02-01', '2017-02-02',\n",
       "       '2017-01-31', '2017-01-14', '2017-02-03', '2017-02-04',\n",
       "       '2017-02-06', '2017-01-26', '2017-02-07', '2017-02-08',\n",
       "       '2017-01-30', '2017-02-09', '2017-01-27', '2017-01-09',\n",
       "       '2017-02-10', '2017-02-11', '2017-02-12', '2017-02-13',\n",
       "       '2017-02-14', '2017-02-16', '2017-02-17', '2017-02-18',\n",
       "       '2017-02-19', '2017-02-15', '2017-02-21', '2017-02-24',\n",
       "       '2017-02-25', '2017-02-22', '2017-02-20', '2017-02-26',\n",
       "       '2017-02-28', '2017-02-27', '2017-03-06', '2017-03-09',\n",
       "       '2017-02-23', '2017-03-10', '2017-03-07', '2017-03-02',\n",
       "       '2017-03-12', '2017-03-13', '2017-03-14', '2017-03-01',\n",
       "       '2017-03-08', '2017-03-05', '2017-03-18', '2017-03-03',\n",
       "       '2017-03-17', '2017-03-24', '2017-03-22', '2017-03-26',\n",
       "       '2017-03-11', '2017-03-28', '2017-03-30', '2017-03-19',\n",
       "       '2017-01-22', '2017-04-02', '2017-03-20', '2017-04-03',\n",
       "       '2017-01-08', '2017-04-05', '2017-02-05', '2017-04-04',\n",
       "       '2017-03-15', '2017-03-31', '2017-04-07', '2017-03-25',\n",
       "       '2017-04-08', '2017-03-29', '2017-03-21', '2017-03-23',\n",
       "       '2017-04-10', '2017-03-27', '2017-04-01', '2017-04-11',\n",
       "       '2017-04-06', '2017-04-13', '2017-04-15', '2017-04-12',\n",
       "       '2017-03-04', '2017-04-19', '2017-04-09', '2017-04-23',\n",
       "       '2017-04-22', '2017-04-20', '2017-04-16', '2017-04-24',\n",
       "       '2017-04-18', '2017-04-25', '2017-04-17', '2017-04-21',\n",
       "       '2016-12-29', '2017-05-03', '2017-05-04', '2017-03-16',\n",
       "       '2017-05-05', '2017-04-29', '2017-04-14', '2017-04-26',\n",
       "       '2017-05-08', '2017-04-27', '2017-05-02', '2017-05-11',\n",
       "       '2017-05-01', '2017-04-28', '2017-05-10', '2017-05-13',\n",
       "       '2017-05-06', '2017-04-30', '2017-05-16', '2017-05-15',\n",
       "       '2017-05-07', '2017-05-09', '2017-05-17', '2017-05-12',\n",
       "       '2017-05-22', '2017-05-24', '2017-05-23', '2017-05-26',\n",
       "       '2017-05-28', '2017-05-21', '2017-05-27', '2017-05-25',\n",
       "       '2017-05-19', '2017-05-31', '2017-05-20', '2017-05-14',\n",
       "       '2017-06-01', '2017-05-30', '2017-05-29', '2017-06-02',\n",
       "       '2016-11-26', '2017-06-04', '2017-06-05', '2017-05-18',\n",
       "       '2017-06-07', '2017-06-09', '2017-06-10', '2017-06-06',\n",
       "       '2017-06-11', '2017-06-12', '2017-06-14', '2017-06-08',\n",
       "       '2017-06-16', '2017-06-13', '2017-06-03', '2017-06-24',\n",
       "       '2017-06-19', '2017-06-21', '2017-06-26', '2017-06-27',\n",
       "       '2017-06-22', '2017-06-15', '2017-06-30', '2017-06-18',\n",
       "       '2017-06-29', '2017-06-28', '2017-07-08', '2017-07-05',\n",
       "       '2017-07-03', '2017-07-07', '2017-07-01', '2017-07-06',\n",
       "       '2017-06-20', '2017-07-11', '2017-06-23', '2017-07-13',\n",
       "       '2017-07-02', '2017-07-10', '2017-07-14', '2017-07-15',\n",
       "       '2017-07-16', '2017-07-04', '2017-07-18', '2017-07-12',\n",
       "       '2017-07-17', '2017-07-19', '2017-07-21', '2017-06-25',\n",
       "       '2017-06-17', '2017-07-20', '2017-07-26', '2017-07-09',\n",
       "       '2017-07-27', '2017-07-28', '2017-07-31', '2017-07-29',\n",
       "       '2017-07-22', '2017-08-02', '2017-08-01', '2017-08-03',\n",
       "       '2017-08-04', '2017-07-24', '2017-07-25', '2017-07-23',\n",
       "       '2017-08-09', '2017-07-30', '2017-08-07', '2017-08-13',\n",
       "       '2017-08-05', '2017-08-14', '2017-08-08', '2017-08-16',\n",
       "       '2017-08-15', '2017-08-17', '2017-08-10', '2017-08-22',\n",
       "       '2017-08-18', '2017-08-06', '2017-08-25', '2017-08-23',\n",
       "       '2017-08-26', '2017-08-11', '2017-08-27', '2017-08-21',\n",
       "       '2017-08-29', '2017-08-12', '2017-08-19', '2017-08-20',\n",
       "       '2017-08-28', '2015-04-03', '2015-01-21', '2015-01-28',\n",
       "       '2015-01-29', '2015-01-30', '2015-02-02', '2015-02-05',\n",
       "       '2015-02-06', '2015-02-09', '2015-02-10', '2015-02-11',\n",
       "       '2015-02-12', '2015-02-19', '2015-02-20', '2015-02-23',\n",
       "       '2015-02-24', '2015-02-25', '2015-02-26', '2015-02-27',\n",
       "       '2015-03-03', '2015-03-04', '2015-03-06', '2015-03-09',\n",
       "       '2015-03-11', '2015-03-12', '2015-03-18', '2015-04-02',\n",
       "       '2015-04-08', '2015-04-16', '2015-04-25', '2015-05-08',\n",
       "       '2017-09-06', '2015-12-09', '2015-12-14', '2016-01-31',\n",
       "       '2016-02-28', '2016-06-04', '2017-09-09', '2017-09-02',\n",
       "       '2017-09-01', '2017-08-24', '2017-08-30', '2017-08-31',\n",
       "       '2017-09-03', '2017-09-04', '2017-09-05', '2017-09-07',\n",
       "       '2017-09-08', '2017-09-10', '2017-09-12', '2017-09-14',\n",
       "       '2015-04-30', '2015-06-20', '2015-04-21', '2015-04-05',\n",
       "       '2015-03-13', '2015-05-05', '2015-05-04', '2015-03-29',\n",
       "       '2015-06-10', '2015-04-27', '2014-10-17', '2015-01-20',\n",
       "       '2015-02-17', '2015-03-10', '2015-03-23'], dtype=object)"
      ]
     },
     "execution_count": 55,
     "metadata": {},
     "output_type": "execute_result"
    }
   ],
   "source": [
    "# Valores únicos\n",
    "dataset.reservation_status_date.unique()"
   ]
  },
  {
   "cell_type": "code",
   "execution_count": 56,
   "metadata": {},
   "outputs": [],
   "source": [
    "# Drop\n",
    "dataset = dataset.drop(\"reservation_status_date\", axis = 1)"
   ]
  },
  {
   "cell_type": "code",
   "execution_count": 57,
   "metadata": {},
   "outputs": [
    {
     "data": {
      "text/plain": [
       "(103048, 28)"
      ]
     },
     "execution_count": 57,
     "metadata": {},
     "output_type": "execute_result"
    }
   ],
   "source": [
    "# Shape\n",
    "dataset.shape"
   ]
  },
  {
   "cell_type": "code",
   "execution_count": 58,
   "metadata": {},
   "outputs": [
    {
     "data": {
      "text/html": [
       "<div>\n",
       "<style scoped>\n",
       "    .dataframe tbody tr th:only-of-type {\n",
       "        vertical-align: middle;\n",
       "    }\n",
       "\n",
       "    .dataframe tbody tr th {\n",
       "        vertical-align: top;\n",
       "    }\n",
       "\n",
       "    .dataframe thead th {\n",
       "        text-align: right;\n",
       "    }\n",
       "</style>\n",
       "<table border=\"1\" class=\"dataframe\">\n",
       "  <thead>\n",
       "    <tr style=\"text-align: right;\">\n",
       "      <th></th>\n",
       "      <th>is_canceled</th>\n",
       "      <th>lead_time</th>\n",
       "      <th>arrival_date_year</th>\n",
       "      <th>arrival_date_week_number</th>\n",
       "      <th>arrival_date_day_of_month</th>\n",
       "      <th>stays_in_weekend_nights</th>\n",
       "      <th>stays_in_week_nights</th>\n",
       "      <th>adults</th>\n",
       "      <th>children</th>\n",
       "      <th>babies</th>\n",
       "      <th>...</th>\n",
       "      <th>total_of_special_requests</th>\n",
       "      <th>arrival_date_month_numerical</th>\n",
       "      <th>reserved_room_type_numerical</th>\n",
       "      <th>assigned_room_type_numerical</th>\n",
       "      <th>deposit_type_numerical</th>\n",
       "      <th>customer_type_numerical</th>\n",
       "      <th>hotel_numerical</th>\n",
       "      <th>meal_numerical</th>\n",
       "      <th>market_segment_numerical</th>\n",
       "      <th>distribution_channel_numerical</th>\n",
       "    </tr>\n",
       "  </thead>\n",
       "  <tbody>\n",
       "    <tr>\n",
       "      <th>3</th>\n",
       "      <td>0</td>\n",
       "      <td>13</td>\n",
       "      <td>2015</td>\n",
       "      <td>27</td>\n",
       "      <td>1</td>\n",
       "      <td>0</td>\n",
       "      <td>1</td>\n",
       "      <td>1</td>\n",
       "      <td>0.0</td>\n",
       "      <td>0</td>\n",
       "      <td>...</td>\n",
       "      <td>0</td>\n",
       "      <td>7</td>\n",
       "      <td>1</td>\n",
       "      <td>1</td>\n",
       "      <td>0</td>\n",
       "      <td>0</td>\n",
       "      <td>0</td>\n",
       "      <td>0</td>\n",
       "      <td>1</td>\n",
       "      <td>1</td>\n",
       "    </tr>\n",
       "    <tr>\n",
       "      <th>4</th>\n",
       "      <td>0</td>\n",
       "      <td>14</td>\n",
       "      <td>2015</td>\n",
       "      <td>27</td>\n",
       "      <td>1</td>\n",
       "      <td>0</td>\n",
       "      <td>2</td>\n",
       "      <td>2</td>\n",
       "      <td>0.0</td>\n",
       "      <td>0</td>\n",
       "      <td>...</td>\n",
       "      <td>1</td>\n",
       "      <td>7</td>\n",
       "      <td>1</td>\n",
       "      <td>1</td>\n",
       "      <td>0</td>\n",
       "      <td>0</td>\n",
       "      <td>0</td>\n",
       "      <td>0</td>\n",
       "      <td>2</td>\n",
       "      <td>8</td>\n",
       "    </tr>\n",
       "    <tr>\n",
       "      <th>5</th>\n",
       "      <td>0</td>\n",
       "      <td>14</td>\n",
       "      <td>2015</td>\n",
       "      <td>27</td>\n",
       "      <td>1</td>\n",
       "      <td>0</td>\n",
       "      <td>2</td>\n",
       "      <td>2</td>\n",
       "      <td>0.0</td>\n",
       "      <td>0</td>\n",
       "      <td>...</td>\n",
       "      <td>1</td>\n",
       "      <td>7</td>\n",
       "      <td>1</td>\n",
       "      <td>1</td>\n",
       "      <td>0</td>\n",
       "      <td>0</td>\n",
       "      <td>0</td>\n",
       "      <td>0</td>\n",
       "      <td>2</td>\n",
       "      <td>8</td>\n",
       "    </tr>\n",
       "    <tr>\n",
       "      <th>7</th>\n",
       "      <td>0</td>\n",
       "      <td>9</td>\n",
       "      <td>2015</td>\n",
       "      <td>27</td>\n",
       "      <td>1</td>\n",
       "      <td>0</td>\n",
       "      <td>2</td>\n",
       "      <td>2</td>\n",
       "      <td>0.0</td>\n",
       "      <td>0</td>\n",
       "      <td>...</td>\n",
       "      <td>1</td>\n",
       "      <td>7</td>\n",
       "      <td>3</td>\n",
       "      <td>3</td>\n",
       "      <td>0</td>\n",
       "      <td>0</td>\n",
       "      <td>0</td>\n",
       "      <td>1</td>\n",
       "      <td>0</td>\n",
       "      <td>0</td>\n",
       "    </tr>\n",
       "    <tr>\n",
       "      <th>8</th>\n",
       "      <td>1</td>\n",
       "      <td>85</td>\n",
       "      <td>2015</td>\n",
       "      <td>27</td>\n",
       "      <td>1</td>\n",
       "      <td>0</td>\n",
       "      <td>3</td>\n",
       "      <td>2</td>\n",
       "      <td>0.0</td>\n",
       "      <td>0</td>\n",
       "      <td>...</td>\n",
       "      <td>1</td>\n",
       "      <td>7</td>\n",
       "      <td>1</td>\n",
       "      <td>1</td>\n",
       "      <td>0</td>\n",
       "      <td>0</td>\n",
       "      <td>0</td>\n",
       "      <td>0</td>\n",
       "      <td>2</td>\n",
       "      <td>8</td>\n",
       "    </tr>\n",
       "  </tbody>\n",
       "</table>\n",
       "<p>5 rows × 28 columns</p>\n",
       "</div>"
      ],
      "text/plain": [
       "   is_canceled  lead_time  arrival_date_year  arrival_date_week_number  \\\n",
       "3            0         13               2015                        27   \n",
       "4            0         14               2015                        27   \n",
       "5            0         14               2015                        27   \n",
       "7            0          9               2015                        27   \n",
       "8            1         85               2015                        27   \n",
       "\n",
       "   arrival_date_day_of_month  stays_in_weekend_nights  stays_in_week_nights  \\\n",
       "3                          1                        0                     1   \n",
       "4                          1                        0                     2   \n",
       "5                          1                        0                     2   \n",
       "7                          1                        0                     2   \n",
       "8                          1                        0                     3   \n",
       "\n",
       "   adults  children  babies  ...  total_of_special_requests  \\\n",
       "3       1       0.0       0  ...                          0   \n",
       "4       2       0.0       0  ...                          1   \n",
       "5       2       0.0       0  ...                          1   \n",
       "7       2       0.0       0  ...                          1   \n",
       "8       2       0.0       0  ...                          1   \n",
       "\n",
       "   arrival_date_month_numerical  reserved_room_type_numerical  \\\n",
       "3                             7                             1   \n",
       "4                             7                             1   \n",
       "5                             7                             1   \n",
       "7                             7                             3   \n",
       "8                             7                             1   \n",
       "\n",
       "   assigned_room_type_numerical  deposit_type_numerical  \\\n",
       "3                             1                       0   \n",
       "4                             1                       0   \n",
       "5                             1                       0   \n",
       "7                             3                       0   \n",
       "8                             1                       0   \n",
       "\n",
       "   customer_type_numerical  hotel_numerical  meal_numerical  \\\n",
       "3                        0                0               0   \n",
       "4                        0                0               0   \n",
       "5                        0                0               0   \n",
       "7                        0                0               1   \n",
       "8                        0                0               0   \n",
       "\n",
       "   market_segment_numerical  distribution_channel_numerical  \n",
       "3                         1                               1  \n",
       "4                         2                               8  \n",
       "5                         2                               8  \n",
       "7                         0                               0  \n",
       "8                         2                               8  \n",
       "\n",
       "[5 rows x 28 columns]"
      ]
     },
     "execution_count": 58,
     "metadata": {},
     "output_type": "execute_result"
    }
   ],
   "source": [
    "# Visualiza os dados\n",
    "dataset.head(5)"
   ]
  },
  {
   "cell_type": "code",
   "execution_count": 59,
   "metadata": {},
   "outputs": [
    {
     "data": {
      "text/plain": [
       "is_canceled                         int64\n",
       "lead_time                           int64\n",
       "arrival_date_year                   int64\n",
       "arrival_date_week_number            int64\n",
       "arrival_date_day_of_month           int64\n",
       "stays_in_weekend_nights             int64\n",
       "stays_in_week_nights                int64\n",
       "adults                              int64\n",
       "children                          float64\n",
       "babies                              int64\n",
       "is_repeated_guest                   int64\n",
       "previous_cancellations              int64\n",
       "previous_bookings_not_canceled      int64\n",
       "booking_changes                     int64\n",
       "agent                             float64\n",
       "days_in_waiting_list                int64\n",
       "adr                               float64\n",
       "required_car_parking_spaces         int64\n",
       "total_of_special_requests           int64\n",
       "arrival_date_month_numerical        int64\n",
       "reserved_room_type_numerical        int64\n",
       "assigned_room_type_numerical        int64\n",
       "deposit_type_numerical              int64\n",
       "customer_type_numerical             int64\n",
       "hotel_numerical                     int64\n",
       "meal_numerical                      int64\n",
       "market_segment_numerical            int64\n",
       "distribution_channel_numerical      int64\n",
       "dtype: object"
      ]
     },
     "execution_count": 59,
     "metadata": {},
     "output_type": "execute_result"
    }
   ],
   "source": [
    "# Tipos de dados\n",
    "dataset.dtypes"
   ]
  },
  {
   "cell_type": "markdown",
   "metadata": {},
   "source": [
    "Limpeza concluída, podemos preparar os dados para treinamento. Vamos seguir para o pré-processamento dos dados."
   ]
  },
  {
   "cell_type": "markdown",
   "metadata": {},
   "source": [
    "## Pipeline de Pré-Processamento dos Dados\n",
    "\n",
    "Primeiro separamos o dataset em X e y."
   ]
  },
  {
   "cell_type": "code",
   "execution_count": 60,
   "metadata": {},
   "outputs": [],
   "source": [
    "# Preparamos os dados de entrada em x\n",
    "X = dataset.drop([\"is_canceled\"], axis = 1)"
   ]
  },
  {
   "cell_type": "code",
   "execution_count": 61,
   "metadata": {},
   "outputs": [],
   "source": [
    "# Preparamos a variável de saída y\n",
    "y = dataset[\"is_canceled\"]"
   ]
  },
  {
   "cell_type": "code",
   "execution_count": 62,
   "metadata": {},
   "outputs": [],
   "source": [
    "# Convertemos para o tipo categórico\n",
    "y = to_categorical(y, num_classes = None)"
   ]
  },
  {
   "cell_type": "markdown",
   "metadata": {},
   "source": [
    "Dividimos os dados em treino e teste, com proporção 80/20."
   ]
  },
  {
   "cell_type": "code",
   "execution_count": 63,
   "metadata": {},
   "outputs": [],
   "source": [
    "# Divisão em treino e teste\n",
    "X_treino, X_teste, y_treino, y_teste = train_test_split(X, y, shuffle = True, test_size = 0.2, random_state = 420)"
   ]
  },
  {
   "cell_type": "code",
   "execution_count": 64,
   "metadata": {},
   "outputs": [
    {
     "name": "stdout",
     "output_type": "stream",
     "text": [
      "Shape de X_treino = (82438, 27)\n",
      "Shape de y_treino = (82438, 2)\n",
      "Shape de X_teste = (20610, 27)\n",
      "Shape de y_teste = (20610, 2)\n"
     ]
    }
   ],
   "source": [
    "# Shape\n",
    "print(\"Shape de X_treino =\", X_treino.shape)\n",
    "print(\"Shape de y_treino =\", y_treino.shape)\n",
    "print(\"Shape de X_teste =\", X_teste.shape)\n",
    "print(\"Shape de y_teste =\", y_teste.shape)"
   ]
  },
  {
   "cell_type": "code",
   "execution_count": 65,
   "metadata": {},
   "outputs": [
    {
     "name": "stdout",
     "output_type": "stream",
     "text": [
      "<class 'pandas.core.frame.DataFrame'>\n",
      "Index: 82438 entries, 14959 to 13044\n",
      "Data columns (total 27 columns):\n",
      " #   Column                          Non-Null Count  Dtype  \n",
      "---  ------                          --------------  -----  \n",
      " 0   lead_time                       82438 non-null  int64  \n",
      " 1   arrival_date_year               82438 non-null  int64  \n",
      " 2   arrival_date_week_number        82438 non-null  int64  \n",
      " 3   arrival_date_day_of_month       82438 non-null  int64  \n",
      " 4   stays_in_weekend_nights         82438 non-null  int64  \n",
      " 5   stays_in_week_nights            82438 non-null  int64  \n",
      " 6   adults                          82438 non-null  int64  \n",
      " 7   children                        82438 non-null  float64\n",
      " 8   babies                          82438 non-null  int64  \n",
      " 9   is_repeated_guest               82438 non-null  int64  \n",
      " 10  previous_cancellations          82438 non-null  int64  \n",
      " 11  previous_bookings_not_canceled  82438 non-null  int64  \n",
      " 12  booking_changes                 82438 non-null  int64  \n",
      " 13  agent                           82438 non-null  float64\n",
      " 14  days_in_waiting_list            82438 non-null  int64  \n",
      " 15  adr                             82438 non-null  float64\n",
      " 16  required_car_parking_spaces     82438 non-null  int64  \n",
      " 17  total_of_special_requests       82438 non-null  int64  \n",
      " 18  arrival_date_month_numerical    82438 non-null  int64  \n",
      " 19  reserved_room_type_numerical    82438 non-null  int64  \n",
      " 20  assigned_room_type_numerical    82438 non-null  int64  \n",
      " 21  deposit_type_numerical          82438 non-null  int64  \n",
      " 22  customer_type_numerical         82438 non-null  int64  \n",
      " 23  hotel_numerical                 82438 non-null  int64  \n",
      " 24  meal_numerical                  82438 non-null  int64  \n",
      " 25  market_segment_numerical        82438 non-null  int64  \n",
      " 26  distribution_channel_numerical  82438 non-null  int64  \n",
      "dtypes: float64(3), int64(24)\n",
      "memory usage: 17.6 MB\n"
     ]
    }
   ],
   "source": [
    "X_treino.info()"
   ]
  },
  {
   "cell_type": "markdown",
   "metadata": {},
   "source": [
    "Como as variáveis estão em escala diferente, vamos padronizar e deixar tudo na mesma escala. Fazemos isso somente com X."
   ]
  },
  {
   "cell_type": "code",
   "execution_count": 66,
   "metadata": {},
   "outputs": [],
   "source": [
    "# Criamos o objeto scaler\n",
    "scaler = MinMaxScaler()"
   ]
  },
  {
   "cell_type": "code",
   "execution_count": 67,
   "metadata": {},
   "outputs": [],
   "source": [
    "# Treinamos e Aplicamos o scaler aos dados de entrada de treino\n",
    "X_treino = scaler.fit_transform(X_treino)"
   ]
  },
  {
   "cell_type": "code",
   "execution_count": 68,
   "metadata": {},
   "outputs": [],
   "source": [
    "# Aplicamos o scaler aos dados de entrada de teste\n",
    "X_teste = scaler.transform(X_teste)"
   ]
  },
  {
   "cell_type": "code",
   "execution_count": 69,
   "metadata": {},
   "outputs": [
    {
     "name": "stdout",
     "output_type": "stream",
     "text": [
      "Matriz da Variável de Entrada:\t(103048, 27)\n",
      "Matriz da Variável de Saída:\t(103048, 2)\n"
     ]
    }
   ],
   "source": [
    "# Resumo\n",
    "print(f'Matriz da Variável de Entrada:\\t{X.shape}\\nMatriz da Variável de Saída:\\t{y.shape}')"
   ]
  },
  {
   "cell_type": "code",
   "execution_count": 70,
   "metadata": {},
   "outputs": [
    {
     "data": {
      "text/plain": [
       "array([[0.23847377, 0.        , 0.51923077, ..., 0.25      , 0.33333333,\n",
       "        1.        ],\n",
       "       [0.12400636, 0.5       , 0.55769231, ..., 0.25      , 0.33333333,\n",
       "        1.        ],\n",
       "       [0.11764706, 0.        , 0.71153846, ..., 0.75      , 0.5       ,\n",
       "        1.        ],\n",
       "       ...,\n",
       "       [0.16375199, 0.5       , 0.59615385, ..., 0.25      , 0.33333333,\n",
       "        1.        ],\n",
       "       [0.354531  , 1.        , 0.63461538, ..., 0.25      , 0.33333333,\n",
       "        1.        ],\n",
       "       [0.08267091, 1.        , 0.55769231, ..., 0.25      , 0.        ,\n",
       "        0.        ]])"
      ]
     },
     "execution_count": 70,
     "metadata": {},
     "output_type": "execute_result"
    }
   ],
   "source": [
    "X_treino"
   ]
  },
  {
   "cell_type": "code",
   "execution_count": 71,
   "metadata": {},
   "outputs": [
    {
     "data": {
      "text/plain": [
       "array([[0.08267091, 1.        , 0.19230769, ..., 0.25      , 0.5       ,\n",
       "        1.        ],\n",
       "       [0.0508744 , 0.        , 0.88461538, ..., 0.25      , 0.5       ,\n",
       "        1.        ],\n",
       "       [0.29570747, 1.        , 0.30769231, ..., 0.25      , 0.33333333,\n",
       "        1.        ],\n",
       "       ...,\n",
       "       [0.09856916, 0.5       , 0.26923077, ..., 0.25      , 0.5       ,\n",
       "        1.        ],\n",
       "       [0.06041335, 1.        , 0.40384615, ..., 1.        , 0.33333333,\n",
       "        1.        ],\n",
       "       [0.02384738, 0.5       , 0.42307692, ..., 0.25      , 0.        ,\n",
       "        0.        ]])"
      ]
     },
     "execution_count": 71,
     "metadata": {},
     "output_type": "execute_result"
    }
   ],
   "source": [
    "X_teste"
   ]
  },
  {
   "cell_type": "markdown",
   "metadata": {},
   "source": [
    "## Pipeline de Construção do Modelo"
   ]
  },
  {
   "cell_type": "markdown",
   "metadata": {},
   "source": [
    "Vamos criar o modelo de Deep Learning com 5 camadas densas, camadas de dropout para evitar o overfitting e ativação softmax para a classificação."
   ]
  },
  {
   "cell_type": "code",
   "execution_count": 72,
   "metadata": {},
   "outputs": [
    {
     "data": {
      "text/plain": [
       "(103048, 27)"
      ]
     },
     "execution_count": 72,
     "metadata": {},
     "output_type": "execute_result"
    }
   ],
   "source": [
    "X.shape"
   ]
  },
  {
   "cell_type": "code",
   "execution_count": 73,
   "metadata": {},
   "outputs": [],
   "source": [
    "# Criamos o modelo\n",
    "modelo_fct = Sequential()\n",
    "modelo_fct.add(Dense(200, input_dim = X.shape[1], activation = 'relu'))\n",
    "modelo_fct.add(Dropout(0.1))\n",
    "modelo_fct.add(Dense(200, activation = 'relu'))\n",
    "modelo_fct.add(Dropout(0.2))    \n",
    "modelo_fct.add(Dense(200, activation = 'relu'))\n",
    "modelo_fct.add(Dropout(0.2))\n",
    "modelo_fct.add(Dense(100, activation = 'relu'))\n",
    "modelo_fct.add(Dropout(0.1))\n",
    "modelo_fct.add(Dense(2, activation = 'softmax'))"
   ]
  },
  {
   "cell_type": "markdown",
   "metadata": {},
   "source": [
    "## Pipeline de Otimização e Compilação do Modelo"
   ]
  },
  {
   "cell_type": "code",
   "execution_count": 74,
   "metadata": {},
   "outputs": [],
   "source": [
    "# Usaremos como otimizador o algoritmo Nadam pois o conjunto de dados é complexo\n",
    "# https://keras.io/api/optimizers/Nadam/\n",
    "otimizador = tf.keras.optimizers.legacy.Nadam(learning_rate = 0.0001, \n",
    "                                              beta_1 = 0.9, \n",
    "                                              beta_2 = 0.999, \n",
    "                                              epsilon = 1e-07)"
   ]
  },
  {
   "cell_type": "code",
   "execution_count": 75,
   "metadata": {},
   "outputs": [],
   "source": [
    "# Compilamos o modelo\n",
    "modelo_fct.compile(optimizer = otimizador, loss = 'categorical_crossentropy', metrics = ['accuracy'])"
   ]
  },
  {
   "cell_type": "code",
   "execution_count": 76,
   "metadata": {},
   "outputs": [],
   "source": [
    "# Vamos criar 2 callbacks\n",
    "# Um para finalizar o treinamento se depois de 20 passadas o erro não mudar\n",
    "# Outro para reduzir a taxa de aprendizagem se o erro não mudar após 5 passadas\n",
    "callbacks = [EarlyStopping(monitor = \"loss\", patience = 20), \n",
    "             ReduceLROnPlateau(monitor = \"loss\", patience = 5)]"
   ]
  },
  {
   "cell_type": "markdown",
   "metadata": {},
   "source": [
    "## Pipeline de Treino e Avaliação do Modelo"
   ]
  },
  {
   "cell_type": "code",
   "execution_count": 77,
   "metadata": {},
   "outputs": [],
   "source": [
    "# Hiperparâmetros\n",
    "num_epochs = 50\n",
    "batch_size = 32"
   ]
  },
  {
   "cell_type": "markdown",
   "metadata": {},
   "source": [
    "> Treinamento do Modelo."
   ]
  },
  {
   "cell_type": "code",
   "execution_count": 78,
   "metadata": {},
   "outputs": [
    {
     "name": "stdout",
     "output_type": "stream",
     "text": [
      "\n",
      "Treinamento Iniciado.\n",
      "\n",
      "Epoch 1/50\n",
      "2577/2577 [==============================] - 4s 1ms/step - loss: 0.4993 - accuracy: 0.7475 - lr: 1.0000e-04\n",
      "Epoch 2/50\n",
      "2577/2577 [==============================] - 3s 1ms/step - loss: 0.4511 - accuracy: 0.7736 - lr: 1.0000e-04\n",
      "Epoch 3/50\n",
      "2577/2577 [==============================] - 3s 1ms/step - loss: 0.4331 - accuracy: 0.7858 - lr: 1.0000e-04\n",
      "Epoch 4/50\n",
      "2577/2577 [==============================] - 3s 1ms/step - loss: 0.4232 - accuracy: 0.7932 - lr: 1.0000e-04\n",
      "Epoch 5/50\n",
      "2577/2577 [==============================] - 3s 1ms/step - loss: 0.4152 - accuracy: 0.7976 - lr: 1.0000e-04\n",
      "Epoch 6/50\n",
      "2577/2577 [==============================] - 3s 1ms/step - loss: 0.4073 - accuracy: 0.8041 - lr: 1.0000e-04\n",
      "Epoch 7/50\n",
      "2577/2577 [==============================] - 4s 2ms/step - loss: 0.4017 - accuracy: 0.8072 - lr: 1.0000e-04\n",
      "Epoch 8/50\n",
      "2577/2577 [==============================] - 4s 1ms/step - loss: 0.3978 - accuracy: 0.8098 - lr: 1.0000e-04\n",
      "Epoch 9/50\n",
      "2577/2577 [==============================] - 3s 1ms/step - loss: 0.3929 - accuracy: 0.8132 - lr: 1.0000e-04\n",
      "Epoch 10/50\n",
      "2577/2577 [==============================] - 3s 1ms/step - loss: 0.3904 - accuracy: 0.8148 - lr: 1.0000e-04\n",
      "Epoch 11/50\n",
      "2577/2577 [==============================] - 3s 1ms/step - loss: 0.3869 - accuracy: 0.8164 - lr: 1.0000e-04\n",
      "Epoch 12/50\n",
      "2577/2577 [==============================] - 3s 1ms/step - loss: 0.3851 - accuracy: 0.8169 - lr: 1.0000e-04\n",
      "Epoch 13/50\n",
      "2577/2577 [==============================] - 3s 1ms/step - loss: 0.3814 - accuracy: 0.8197 - lr: 1.0000e-04\n",
      "Epoch 14/50\n",
      "2577/2577 [==============================] - 3s 1ms/step - loss: 0.3798 - accuracy: 0.8204 - lr: 1.0000e-04\n",
      "Epoch 15/50\n",
      "2577/2577 [==============================] - 3s 1ms/step - loss: 0.3773 - accuracy: 0.8216 - lr: 1.0000e-04\n",
      "Epoch 16/50\n",
      "2577/2577 [==============================] - 3s 1ms/step - loss: 0.3753 - accuracy: 0.8228 - lr: 1.0000e-04\n",
      "Epoch 17/50\n",
      "2577/2577 [==============================] - 3s 1ms/step - loss: 0.3742 - accuracy: 0.8234 - lr: 1.0000e-04\n",
      "Epoch 18/50\n",
      "2577/2577 [==============================] - 3s 1ms/step - loss: 0.3718 - accuracy: 0.8252 - lr: 1.0000e-04\n",
      "Epoch 19/50\n",
      "2577/2577 [==============================] - 3s 1ms/step - loss: 0.3700 - accuracy: 0.8258 - lr: 1.0000e-04\n",
      "Epoch 20/50\n",
      "2577/2577 [==============================] - 4s 1ms/step - loss: 0.3691 - accuracy: 0.8255 - lr: 1.0000e-04\n",
      "Epoch 21/50\n",
      "2577/2577 [==============================] - 3s 1ms/step - loss: 0.3670 - accuracy: 0.8267 - lr: 1.0000e-04\n",
      "Epoch 22/50\n",
      "2577/2577 [==============================] - 3s 1ms/step - loss: 0.3652 - accuracy: 0.8269 - lr: 1.0000e-04\n",
      "Epoch 23/50\n",
      "2577/2577 [==============================] - 3s 1ms/step - loss: 0.3643 - accuracy: 0.8286 - lr: 1.0000e-04\n",
      "Epoch 24/50\n",
      "2577/2577 [==============================] - 3s 1ms/step - loss: 0.3638 - accuracy: 0.8288 - lr: 1.0000e-04\n",
      "Epoch 25/50\n",
      "2577/2577 [==============================] - 3s 1ms/step - loss: 0.3628 - accuracy: 0.8285 - lr: 1.0000e-04\n",
      "Epoch 26/50\n",
      "2577/2577 [==============================] - 3s 1ms/step - loss: 0.3599 - accuracy: 0.8321 - lr: 1.0000e-04\n",
      "Epoch 27/50\n",
      "2577/2577 [==============================] - 3s 1ms/step - loss: 0.3591 - accuracy: 0.8315 - lr: 1.0000e-04\n",
      "Epoch 28/50\n",
      "2577/2577 [==============================] - 3s 1ms/step - loss: 0.3576 - accuracy: 0.8311 - lr: 1.0000e-04\n",
      "Epoch 29/50\n",
      "2577/2577 [==============================] - 3s 1ms/step - loss: 0.3573 - accuracy: 0.8323 - lr: 1.0000e-04\n",
      "Epoch 30/50\n",
      "2577/2577 [==============================] - 3s 1ms/step - loss: 0.3557 - accuracy: 0.8323 - lr: 1.0000e-04\n",
      "Epoch 31/50\n",
      "2577/2577 [==============================] - 3s 1ms/step - loss: 0.3548 - accuracy: 0.8319 - lr: 1.0000e-04\n",
      "Epoch 32/50\n",
      "2577/2577 [==============================] - 4s 1ms/step - loss: 0.3526 - accuracy: 0.8347 - lr: 1.0000e-04\n",
      "Epoch 33/50\n",
      "2577/2577 [==============================] - 3s 1ms/step - loss: 0.3526 - accuracy: 0.8343 - lr: 1.0000e-04\n",
      "Epoch 34/50\n",
      "2577/2577 [==============================] - 3s 1ms/step - loss: 0.3515 - accuracy: 0.8345 - lr: 1.0000e-04\n",
      "Epoch 35/50\n",
      "2577/2577 [==============================] - 3s 1ms/step - loss: 0.3507 - accuracy: 0.8343 - lr: 1.0000e-04\n",
      "Epoch 36/50\n",
      "2577/2577 [==============================] - 3s 1ms/step - loss: 0.3492 - accuracy: 0.8363 - lr: 1.0000e-04\n",
      "Epoch 37/50\n",
      "2577/2577 [==============================] - 3s 1ms/step - loss: 0.3476 - accuracy: 0.8362 - lr: 1.0000e-04\n",
      "Epoch 38/50\n",
      "2577/2577 [==============================] - 3s 1ms/step - loss: 0.3479 - accuracy: 0.8363 - lr: 1.0000e-04\n",
      "Epoch 39/50\n",
      "2577/2577 [==============================] - 3s 1ms/step - loss: 0.3474 - accuracy: 0.8377 - lr: 1.0000e-04\n",
      "Epoch 40/50\n",
      "2577/2577 [==============================] - 3s 1ms/step - loss: 0.3460 - accuracy: 0.8371 - lr: 1.0000e-04\n",
      "Epoch 41/50\n",
      "2577/2577 [==============================] - 3s 1ms/step - loss: 0.3442 - accuracy: 0.8378 - lr: 1.0000e-04\n",
      "Epoch 42/50\n",
      "2577/2577 [==============================] - 3s 1ms/step - loss: 0.3448 - accuracy: 0.8384 - lr: 1.0000e-04\n",
      "Epoch 43/50\n",
      "2577/2577 [==============================] - 3s 1ms/step - loss: 0.3441 - accuracy: 0.8373 - lr: 1.0000e-04\n",
      "Epoch 44/50\n",
      "2577/2577 [==============================] - 3s 1ms/step - loss: 0.3426 - accuracy: 0.8385 - lr: 1.0000e-04\n",
      "Epoch 45/50\n",
      "2577/2577 [==============================] - 3s 1ms/step - loss: 0.3406 - accuracy: 0.8397 - lr: 1.0000e-04\n",
      "Epoch 46/50\n",
      "2577/2577 [==============================] - 3s 1ms/step - loss: 0.3420 - accuracy: 0.8392 - lr: 1.0000e-04\n",
      "Epoch 47/50\n",
      "2577/2577 [==============================] - 3s 1ms/step - loss: 0.3404 - accuracy: 0.8397 - lr: 1.0000e-04\n",
      "Epoch 48/50\n",
      "2577/2577 [==============================] - 3s 1ms/step - loss: 0.3404 - accuracy: 0.8401 - lr: 1.0000e-04\n",
      "Epoch 49/50\n",
      "2577/2577 [==============================] - 3s 1ms/step - loss: 0.3403 - accuracy: 0.8399 - lr: 1.0000e-04\n",
      "Epoch 50/50\n",
      "2577/2577 [==============================] - 3s 1ms/step - loss: 0.3388 - accuracy: 0.8400 - lr: 1.0000e-04\n",
      "\n",
      "Treinamento Concluído.\n",
      "\n",
      "CPU times: user 2min 32s, sys: 42.3 s, total: 3min 14s\n",
      "Wall time: 2min 30s\n"
     ]
    }
   ],
   "source": [
    "%%time\n",
    "\n",
    "print(\"\\nTreinamento Iniciado.\\n\")\n",
    "\n",
    "history = modelo_fct.fit(X_treino, \n",
    "                         y_treino, \n",
    "                         epochs = num_epochs, \n",
    "                         batch_size = batch_size, \n",
    "                         callbacks = callbacks)\n",
    "\n",
    "print(\"\\nTreinamento Concluído.\\n\")"
   ]
  },
  {
   "cell_type": "markdown",
   "metadata": {},
   "source": [
    "> Avaliação do Modelo nos Dados de Treino.\n",
    "\n",
    "O treinamento ocorreu com sucesso. Vamos agora avaliar o modelo."
   ]
  },
  {
   "cell_type": "code",
   "execution_count": 79,
   "metadata": {},
   "outputs": [
    {
     "data": {
      "image/png": "[encoded data removed]",
      "text/plain": [
       "<Figure size 1000x800 with 1 Axes>"
      ]
     },
     "metadata": {},
     "output_type": "display_data"
    }
   ],
   "source": [
    "# Plot da Acurácia em Treino\n",
    "plt.figure(figsize = [10,8])\n",
    "plt.title(\"Curva de Aprendizado do Modelo - Acurácia\")\n",
    "plt.plot(history.history['accuracy'], label = 'Acurácia em Treino')\n",
    "plt.xlabel(\"Epochs\")\n",
    "plt.legend()\n",
    "plt.grid()"
   ]
  },
  {
   "cell_type": "code",
   "execution_count": 80,
   "metadata": {},
   "outputs": [
    {
     "data": {
      "image/png": "[encoded data removed]",
      "text/plain": [
       "<Figure size 1000x800 with 1 Axes>"
      ]
     },
     "metadata": {},
     "output_type": "display_data"
    }
   ],
   "source": [
    "# Plot do Erro em Treino\n",
    "plt.figure(figsize = [10,8])\n",
    "plt.title(\"Curva de Aprendizado do Modelo - Erro\")\n",
    "plt.plot(history.history['loss'], label = 'Erro em Treino')\n",
    "plt.xlabel(\"Epochs\")\n",
    "plt.legend()\n",
    "plt.grid()"
   ]
  },
  {
   "cell_type": "markdown",
   "metadata": {},
   "source": [
    "> Avaliação do Modelo nos Dados de Teste."
   ]
  },
  {
   "cell_type": "code",
   "execution_count": 81,
   "metadata": {},
   "outputs": [
    {
     "name": "stdout",
     "output_type": "stream",
     "text": [
      "645/645 [==============================] - 0s 317us/step\n"
     ]
    }
   ],
   "source": [
    "# Fazemos as previsões com os dados de teste\n",
    "previsoes = modelo_fct.predict(X_teste)"
   ]
  },
  {
   "cell_type": "code",
   "execution_count": 82,
   "metadata": {},
   "outputs": [],
   "source": [
    "# Convertemos as previsões em previsões de classe\n",
    "y_pred = (previsoes > 0.5) "
   ]
  },
  {
   "cell_type": "code",
   "execution_count": 83,
   "metadata": {},
   "outputs": [
    {
     "data": {
      "text/plain": [
       "0.8382338670548277"
      ]
     },
     "execution_count": 83,
     "metadata": {},
     "output_type": "execute_result"
    }
   ],
   "source": [
    "# Calculamos a acurácia comparando valor real com valor previsto\n",
    "accuracy_score(y_teste, y_pred)"
   ]
  },
  {
   "cell_type": "code",
   "execution_count": 84,
   "metadata": {},
   "outputs": [
    {
     "data": {
      "text/plain": [
       "['scaler_fct.pkl']"
      ]
     },
     "execution_count": 84,
     "metadata": {},
     "output_type": "execute_result"
    }
   ],
   "source": [
    "# Salva o scaler\n",
    "import joblib\n",
    "joblib.dump(scaler, 'scaler_fct.pkl')"
   ]
  },
  {
   "cell_type": "code",
   "execution_count": 85,
   "metadata": {},
   "outputs": [],
   "source": [
    "# Salva o modelo\n",
    "modelo_fct.save(\"modelo_fct.keras\")"
   ]
  },
  {
   "cell_type": "markdown",
   "metadata": {},
   "source": [
    "## Deploy e Pipeline de Inferência com o Modelo Treinado\n",
    "\n",
    "Vamos considerar que os dados já atendem aos requisitos do pipeline de limpeza e transformação!"
   ]
  },
  {
   "cell_type": "code",
   "execution_count": 87,
   "metadata": {},
   "outputs": [],
   "source": [
    "# Novos dados de um novo cliente\n",
    "# Não temos a variável alvo. Isso é o que o modelo irá prever\n",
    "novos_dados_fct = {\n",
    "    'lead_time': [15.00],\n",
    "    'arrival_date_year': [2016.00],\n",
    "    'arrival_date_week_number': [23.00],\n",
    "    'arrival_date_day_of_month': [30.00],\n",
    "    'stays_in_weekend_nights': [2.00],\n",
    "    'stays_in_week_nights': [5.00],\n",
    "    'adults': [2.00],\n",
    "    'children': [0.00],\n",
    "    'babies': [0.00],\n",
    "    'is_repeated_guest': [0.00],\n",
    "    'previous_cancellations': [0.00],\n",
    "    'previous_bookings_not_canceled': [0.00],\n",
    "    'booking_changes': [0.00],\n",
    "    'agent': [14.00],\n",
    "    'days_in_waiting_list': [0.00],\n",
    "    'adr': [115.84],\n",
    "    'required_car_parking_spaces': [0.00],\n",
    "    'total_of_special_requests': [0.00],\n",
    "    'arrival_date_month_numerical': [5.00],\n",
    "    'reserved_room_type_numerical': [4.00],\n",
    "    'assigned_room_type_numerical': [4.00],\n",
    "    'deposit_type_numerical': [0.00],\n",
    "    'customer_type_numerical': [0.00],\n",
    "    'hotel_numerical': [1.00],\n",
    "    'meal_numerical': [0.00],\n",
    "    'market_segment_numerical': [0.00],\n",
    "    'distribution_channel_numerical': [0.00]\n",
    "}"
   ]
  },
  {
   "cell_type": "code",
   "execution_count": 88,
   "metadata": {},
   "outputs": [],
   "source": [
    "# Criando o DataFrame\n",
    "df_novo_cliente = pd.DataFrame(novos_dados_fct)"
   ]
  },
  {
   "cell_type": "code",
   "execution_count": 89,
   "metadata": {},
   "outputs": [
    {
     "data": {
      "text/plain": [
       "(1, 27)"
      ]
     },
     "execution_count": 89,
     "metadata": {},
     "output_type": "execute_result"
    }
   ],
   "source": [
    "df_novo_cliente.shape"
   ]
  },
  {
   "cell_type": "code",
   "execution_count": 90,
   "metadata": {},
   "outputs": [
    {
     "data": {
      "text/html": [
       "<div>\n",
       "<style scoped>\n",
       "    .dataframe tbody tr th:only-of-type {\n",
       "        vertical-align: middle;\n",
       "    }\n",
       "\n",
       "    .dataframe tbody tr th {\n",
       "        vertical-align: top;\n",
       "    }\n",
       "\n",
       "    .dataframe thead th {\n",
       "        text-align: right;\n",
       "    }\n",
       "</style>\n",
       "<table border=\"1\" class=\"dataframe\">\n",
       "  <thead>\n",
       "    <tr style=\"text-align: right;\">\n",
       "      <th></th>\n",
       "      <th>lead_time</th>\n",
       "      <th>arrival_date_year</th>\n",
       "      <th>arrival_date_week_number</th>\n",
       "      <th>arrival_date_day_of_month</th>\n",
       "      <th>stays_in_weekend_nights</th>\n",
       "      <th>stays_in_week_nights</th>\n",
       "      <th>adults</th>\n",
       "      <th>children</th>\n",
       "      <th>babies</th>\n",
       "      <th>is_repeated_guest</th>\n",
       "      <th>...</th>\n",
       "      <th>total_of_special_requests</th>\n",
       "      <th>arrival_date_month_numerical</th>\n",
       "      <th>reserved_room_type_numerical</th>\n",
       "      <th>assigned_room_type_numerical</th>\n",
       "      <th>deposit_type_numerical</th>\n",
       "      <th>customer_type_numerical</th>\n",
       "      <th>hotel_numerical</th>\n",
       "      <th>meal_numerical</th>\n",
       "      <th>market_segment_numerical</th>\n",
       "      <th>distribution_channel_numerical</th>\n",
       "    </tr>\n",
       "  </thead>\n",
       "  <tbody>\n",
       "    <tr>\n",
       "      <th>0</th>\n",
       "      <td>15.0</td>\n",
       "      <td>2016.0</td>\n",
       "      <td>23.0</td>\n",
       "      <td>30.0</td>\n",
       "      <td>2.0</td>\n",
       "      <td>5.0</td>\n",
       "      <td>2.0</td>\n",
       "      <td>0.0</td>\n",
       "      <td>0.0</td>\n",
       "      <td>0.0</td>\n",
       "      <td>...</td>\n",
       "      <td>0.0</td>\n",
       "      <td>5.0</td>\n",
       "      <td>4.0</td>\n",
       "      <td>4.0</td>\n",
       "      <td>0.0</td>\n",
       "      <td>0.0</td>\n",
       "      <td>1.0</td>\n",
       "      <td>0.0</td>\n",
       "      <td>0.0</td>\n",
       "      <td>0.0</td>\n",
       "    </tr>\n",
       "  </tbody>\n",
       "</table>\n",
       "<p>1 rows × 27 columns</p>\n",
       "</div>"
      ],
      "text/plain": [
       "   lead_time  arrival_date_year  arrival_date_week_number  \\\n",
       "0       15.0             2016.0                      23.0   \n",
       "\n",
       "   arrival_date_day_of_month  stays_in_weekend_nights  stays_in_week_nights  \\\n",
       "0                       30.0                      2.0                   5.0   \n",
       "\n",
       "   adults  children  babies  is_repeated_guest  ...  \\\n",
       "0     2.0       0.0     0.0                0.0  ...   \n",
       "\n",
       "   total_of_special_requests  arrival_date_month_numerical  \\\n",
       "0                        0.0                           5.0   \n",
       "\n",
       "   reserved_room_type_numerical  assigned_room_type_numerical  \\\n",
       "0                           4.0                           4.0   \n",
       "\n",
       "   deposit_type_numerical  customer_type_numerical  hotel_numerical  \\\n",
       "0                     0.0                      0.0              1.0   \n",
       "\n",
       "   meal_numerical  market_segment_numerical  distribution_channel_numerical  \n",
       "0             0.0                       0.0                             0.0  \n",
       "\n",
       "[1 rows x 27 columns]"
      ]
     },
     "execution_count": 90,
     "metadata": {},
     "output_type": "execute_result"
    }
   ],
   "source": [
    "df_novo_cliente"
   ]
  },
  {
   "cell_type": "code",
   "execution_count": 91,
   "metadata": {},
   "outputs": [],
   "source": [
    "# Carregando o scaler do disco\n",
    "scaler_fct_final = joblib.load('scaler_fct.pkl')"
   ]
  },
  {
   "cell_type": "code",
   "execution_count": 92,
   "metadata": {},
   "outputs": [],
   "source": [
    "# Aplicamos o scaler aos novos_dados\n",
    "df_novo_cliente_array = scaler_fct_final.transform(df_novo_cliente)"
   ]
  },
  {
   "cell_type": "code",
   "execution_count": 93,
   "metadata": {},
   "outputs": [
    {
     "data": {
      "text/plain": [
       "array([[0.02384738, 0.5       , 0.42307692, 0.96666667, 0.125     ,\n",
       "        0.12195122, 0.07692308, 0.        , 0.        , 0.        ,\n",
       "        0.        , 0.        , 0.        , 0.02434457, 0.        ,\n",
       "        0.02260662, 0.        , 0.        , 0.36363636, 0.42857143,\n",
       "        0.3       , 0.5       , 0.        , 1.        , 0.25      ,\n",
       "        0.        , 0.        ]])"
      ]
     },
     "execution_count": 93,
     "metadata": {},
     "output_type": "execute_result"
    }
   ],
   "source": [
    "df_novo_cliente_array"
   ]
  },
  {
   "cell_type": "code",
   "execution_count": 94,
   "metadata": {},
   "outputs": [],
   "source": [
    "# Carrega o modelo do disco\n",
    "from tensorflow.keras.models import load_model\n",
    "modelo_fct_final = load_model(\"modelo_fct.keras\")"
   ]
  },
  {
   "cell_type": "code",
   "execution_count": 95,
   "metadata": {},
   "outputs": [
    {
     "name": "stdout",
     "output_type": "stream",
     "text": [
      "1/1 [==============================] - 0s 32ms/step\n"
     ]
    }
   ],
   "source": [
    "# Fazemos a previsão\n",
    "previsao = modelo_fct_final.predict(df_novo_cliente_array)"
   ]
  },
  {
   "cell_type": "code",
   "execution_count": 96,
   "metadata": {},
   "outputs": [
    {
     "data": {
      "text/plain": [
       "array([[0.45351076, 0.5464892 ]], dtype=float32)"
      ]
     },
     "execution_count": 96,
     "metadata": {},
     "output_type": "execute_result"
    }
   ],
   "source": [
    "previsao"
   ]
  },
  {
   "cell_type": "markdown",
   "metadata": {},
   "source": [
    "> Podemos entregar a previsão no formato de probabilidade (quando o modelo permitir):"
   ]
  },
  {
   "cell_type": "code",
   "execution_count": 97,
   "metadata": {},
   "outputs": [
    {
     "name": "stdout",
     "output_type": "stream",
     "text": [
      "Esta é a probabilidade do cliente não cancelar a reserva (classe 0): 45.35107612609863\n"
     ]
    }
   ],
   "source": [
    "print(\"Esta é a probabilidade do cliente não cancelar a reserva (classe 0):\", previsao[0, 0] * 100)"
   ]
  },
  {
   "cell_type": "code",
   "execution_count": 98,
   "metadata": {},
   "outputs": [
    {
     "name": "stdout",
     "output_type": "stream",
     "text": [
      "Esta é a probabilidade do cliente cancelar a reserva (classe 1): 54.64891791343689\n"
     ]
    }
   ],
   "source": [
    "print(\"Esta é a probabilidade do cliente cancelar a reserva (classe 1):\", previsao[0, 1] * 100)"
   ]
  },
  {
   "cell_type": "markdown",
   "metadata": {},
   "source": [
    "> Ou podemos entregar o modelo no formato de previsão de classe (para modelos de classificação):"
   ]
  },
  {
   "cell_type": "code",
   "execution_count": 99,
   "metadata": {},
   "outputs": [
    {
     "name": "stdout",
     "output_type": "stream",
     "text": [
      "Esse cliente provavelmente vai cancelar a reserva!\n"
     ]
    }
   ],
   "source": [
    "# Verificando o primeiro valor do array\n",
    "if previsao[0, 0] > 0.50:\n",
    "    print(\"Esse cliente provavelmente não vai cancelar a reserva!\")\n",
    "else:\n",
    "    print(\"Esse cliente provavelmente vai cancelar a reserva!\")"
   ]
  },
  {
   "cell_type": "code",
   "execution_count": 99,
   "metadata": {},
   "outputs": [
    {
     "name": "stdout",
     "output_type": "stream",
     "text": [
      "Author: Silmara Basso\n",
      "\n"
     ]
    }
   ],
   "source": [
    "%reload_ext watermark\n",
    "%watermark -a \"Silmara Basso\""
   ]
  },
  {
   "cell_type": "code",
   "execution_count": null,
   "metadata": {},
   "outputs": [
    {
     "name": "stdout",
     "output_type": "stream",
     "text": [
      "Python implementation: CPython\n",
      "Python version       : 3.11.5\n",
      "IPython version      : 9.4.0\n",
      "\n",
      "Compiler    : Clang 15.0.0 (clang-1500.1.0.2.5)\n",
      "OS          : Darwin\n",
      "Release     : 23.2.0\n",
      "Machine     : arm64\n",
      "Processor   : arm\n",
      "CPU cores   : 16\n",
      "Architecture: 64bit\n",
      "\n"
     ]
    }
   ],
   "source": [
    "#%watermark -v -m"
   ]
  },
  {
   "cell_type": "code",
   "execution_count": null,
   "metadata": {},
   "outputs": [
    {
     "name": "stdout",
     "output_type": "stream",
     "text": [
      "tensorflow: 2.15.0\n",
      "keras     : 2.15.0\n",
      "pandas    : 2.3.0\n",
      "matplotlib: 3.10.3\n",
      "sklearn   : 1.7.0\n",
      "joblib    : 1.5.1\n",
      "seaborn   : 0.12.2\n",
      "numpy     : 1.26.4\n",
      "\n"
     ]
    }
   ],
   "source": [
    "#%watermark --iversions"
   ]
  },
  {
   "cell_type": "markdown",
   "metadata": {},
   "source": [
    "# Fim"
   ]
  }
 ],
 "metadata": {
  "kernelspec": {
   "display_name": "3.11.5",
   "language": "python",
   "name": "python3"
  },
  "language_info": {
   "codemirror_mode": {
    "name": "ipython",
    "version": 3
   },
   "file_extension": ".py",
   "mimetype": "text/x-python",
   "name": "python",
   "nbconvert_exporter": "python",
   "pygments_lexer": "ipython3",
   "version": "3.11.5"
  }
 },
 "nbformat": 4,
 "nbformat_minor": 2
}
